{
 "cells": [
  {
   "cell_type": "code",
   "execution_count": 7,
   "metadata": {},
   "outputs": [],
   "source": [
    "import pandas as pd"
   ]
  },
  {
   "cell_type": "code",
   "execution_count": null,
   "metadata": {},
   "outputs": [],
   "source": [
    "#importing our dataset and initial analysis of what we're working with"
   ]
  },
  {
   "cell_type": "code",
   "execution_count": 22,
   "metadata": {},
   "outputs": [],
   "source": [
    "df = pd.read_csv('winemag-data-130k-v2 (1).csv')"
   ]
  },
  {
   "cell_type": "code",
   "execution_count": 23,
   "metadata": {},
   "outputs": [
    {
     "data": {
      "text/html": [
       "<div>\n",
       "<style scoped>\n",
       "    .dataframe tbody tr th:only-of-type {\n",
       "        vertical-align: middle;\n",
       "    }\n",
       "\n",
       "    .dataframe tbody tr th {\n",
       "        vertical-align: top;\n",
       "    }\n",
       "\n",
       "    .dataframe thead th {\n",
       "        text-align: right;\n",
       "    }\n",
       "</style>\n",
       "<table border=\"1\" class=\"dataframe\">\n",
       "  <thead>\n",
       "    <tr style=\"text-align: right;\">\n",
       "      <th></th>\n",
       "      <th>Unnamed: 0</th>\n",
       "      <th>country</th>\n",
       "      <th>description</th>\n",
       "      <th>designation</th>\n",
       "      <th>points</th>\n",
       "      <th>price</th>\n",
       "      <th>province</th>\n",
       "      <th>region_1</th>\n",
       "      <th>region_2</th>\n",
       "      <th>taster_name</th>\n",
       "      <th>taster_twitter_handle</th>\n",
       "      <th>title</th>\n",
       "      <th>variety</th>\n",
       "      <th>winery</th>\n",
       "    </tr>\n",
       "  </thead>\n",
       "  <tbody>\n",
       "    <tr>\n",
       "      <th>0</th>\n",
       "      <td>0</td>\n",
       "      <td>Italy</td>\n",
       "      <td>Aromas include tropical fruit, broom, brimston...</td>\n",
       "      <td>Vulkà Bianco</td>\n",
       "      <td>87</td>\n",
       "      <td>NaN</td>\n",
       "      <td>Sicily &amp; Sardinia</td>\n",
       "      <td>Etna</td>\n",
       "      <td>NaN</td>\n",
       "      <td>Kerin O’Keefe</td>\n",
       "      <td>@kerinokeefe</td>\n",
       "      <td>Nicosia 2013 Vulkà Bianco  (Etna)</td>\n",
       "      <td>White Blend</td>\n",
       "      <td>Nicosia</td>\n",
       "    </tr>\n",
       "    <tr>\n",
       "      <th>1</th>\n",
       "      <td>1</td>\n",
       "      <td>Portugal</td>\n",
       "      <td>This is ripe and fruity, a wine that is smooth...</td>\n",
       "      <td>Avidagos</td>\n",
       "      <td>87</td>\n",
       "      <td>15.0</td>\n",
       "      <td>Douro</td>\n",
       "      <td>NaN</td>\n",
       "      <td>NaN</td>\n",
       "      <td>Roger Voss</td>\n",
       "      <td>@vossroger</td>\n",
       "      <td>Quinta dos Avidagos 2011 Avidagos Red (Douro)</td>\n",
       "      <td>Portuguese Red</td>\n",
       "      <td>Quinta dos Avidagos</td>\n",
       "    </tr>\n",
       "    <tr>\n",
       "      <th>2</th>\n",
       "      <td>2</td>\n",
       "      <td>US</td>\n",
       "      <td>Tart and snappy, the flavors of lime flesh and...</td>\n",
       "      <td>NaN</td>\n",
       "      <td>87</td>\n",
       "      <td>14.0</td>\n",
       "      <td>Oregon</td>\n",
       "      <td>Willamette Valley</td>\n",
       "      <td>Willamette Valley</td>\n",
       "      <td>Paul Gregutt</td>\n",
       "      <td>@paulgwine</td>\n",
       "      <td>Rainstorm 2013 Pinot Gris (Willamette Valley)</td>\n",
       "      <td>Pinot Gris</td>\n",
       "      <td>Rainstorm</td>\n",
       "    </tr>\n",
       "    <tr>\n",
       "      <th>3</th>\n",
       "      <td>3</td>\n",
       "      <td>US</td>\n",
       "      <td>Pineapple rind, lemon pith and orange blossom ...</td>\n",
       "      <td>Reserve Late Harvest</td>\n",
       "      <td>87</td>\n",
       "      <td>13.0</td>\n",
       "      <td>Michigan</td>\n",
       "      <td>Lake Michigan Shore</td>\n",
       "      <td>NaN</td>\n",
       "      <td>Alexander Peartree</td>\n",
       "      <td>NaN</td>\n",
       "      <td>St. Julian 2013 Reserve Late Harvest Riesling ...</td>\n",
       "      <td>Riesling</td>\n",
       "      <td>St. Julian</td>\n",
       "    </tr>\n",
       "    <tr>\n",
       "      <th>4</th>\n",
       "      <td>4</td>\n",
       "      <td>US</td>\n",
       "      <td>Much like the regular bottling from 2012, this...</td>\n",
       "      <td>Vintner's Reserve Wild Child Block</td>\n",
       "      <td>87</td>\n",
       "      <td>65.0</td>\n",
       "      <td>Oregon</td>\n",
       "      <td>Willamette Valley</td>\n",
       "      <td>Willamette Valley</td>\n",
       "      <td>Paul Gregutt</td>\n",
       "      <td>@paulgwine</td>\n",
       "      <td>Sweet Cheeks 2012 Vintner's Reserve Wild Child...</td>\n",
       "      <td>Pinot Noir</td>\n",
       "      <td>Sweet Cheeks</td>\n",
       "    </tr>\n",
       "  </tbody>\n",
       "</table>\n",
       "</div>"
      ],
      "text/plain": [
       "   Unnamed: 0   country                                        description  \\\n",
       "0           0     Italy  Aromas include tropical fruit, broom, brimston...   \n",
       "1           1  Portugal  This is ripe and fruity, a wine that is smooth...   \n",
       "2           2        US  Tart and snappy, the flavors of lime flesh and...   \n",
       "3           3        US  Pineapple rind, lemon pith and orange blossom ...   \n",
       "4           4        US  Much like the regular bottling from 2012, this...   \n",
       "\n",
       "                          designation  points  price           province  \\\n",
       "0                        Vulkà Bianco      87    NaN  Sicily & Sardinia   \n",
       "1                            Avidagos      87   15.0              Douro   \n",
       "2                                 NaN      87   14.0             Oregon   \n",
       "3                Reserve Late Harvest      87   13.0           Michigan   \n",
       "4  Vintner's Reserve Wild Child Block      87   65.0             Oregon   \n",
       "\n",
       "              region_1           region_2         taster_name  \\\n",
       "0                 Etna                NaN       Kerin O’Keefe   \n",
       "1                  NaN                NaN          Roger Voss   \n",
       "2    Willamette Valley  Willamette Valley        Paul Gregutt   \n",
       "3  Lake Michigan Shore                NaN  Alexander Peartree   \n",
       "4    Willamette Valley  Willamette Valley        Paul Gregutt   \n",
       "\n",
       "  taster_twitter_handle                                              title  \\\n",
       "0          @kerinokeefe                  Nicosia 2013 Vulkà Bianco  (Etna)   \n",
       "1            @vossroger      Quinta dos Avidagos 2011 Avidagos Red (Douro)   \n",
       "2           @paulgwine       Rainstorm 2013 Pinot Gris (Willamette Valley)   \n",
       "3                   NaN  St. Julian 2013 Reserve Late Harvest Riesling ...   \n",
       "4           @paulgwine   Sweet Cheeks 2012 Vintner's Reserve Wild Child...   \n",
       "\n",
       "          variety               winery  \n",
       "0     White Blend              Nicosia  \n",
       "1  Portuguese Red  Quinta dos Avidagos  \n",
       "2      Pinot Gris            Rainstorm  \n",
       "3        Riesling           St. Julian  \n",
       "4      Pinot Noir         Sweet Cheeks  "
      ]
     },
     "execution_count": 23,
     "metadata": {},
     "output_type": "execute_result"
    }
   ],
   "source": [
    "df.head()"
   ]
  },
  {
   "cell_type": "code",
   "execution_count": 24,
   "metadata": {},
   "outputs": [
    {
     "data": {
      "text/html": [
       "<div>\n",
       "<style scoped>\n",
       "    .dataframe tbody tr th:only-of-type {\n",
       "        vertical-align: middle;\n",
       "    }\n",
       "\n",
       "    .dataframe tbody tr th {\n",
       "        vertical-align: top;\n",
       "    }\n",
       "\n",
       "    .dataframe thead th {\n",
       "        text-align: right;\n",
       "    }\n",
       "</style>\n",
       "<table border=\"1\" class=\"dataframe\">\n",
       "  <thead>\n",
       "    <tr style=\"text-align: right;\">\n",
       "      <th></th>\n",
       "      <th>Unnamed: 0</th>\n",
       "      <th>points</th>\n",
       "      <th>price</th>\n",
       "    </tr>\n",
       "  </thead>\n",
       "  <tbody>\n",
       "    <tr>\n",
       "      <th>count</th>\n",
       "      <td>129971.000000</td>\n",
       "      <td>129971.000000</td>\n",
       "      <td>120975.000000</td>\n",
       "    </tr>\n",
       "    <tr>\n",
       "      <th>mean</th>\n",
       "      <td>64985.000000</td>\n",
       "      <td>88.447138</td>\n",
       "      <td>35.363389</td>\n",
       "    </tr>\n",
       "    <tr>\n",
       "      <th>std</th>\n",
       "      <td>37519.540256</td>\n",
       "      <td>3.039730</td>\n",
       "      <td>41.022218</td>\n",
       "    </tr>\n",
       "    <tr>\n",
       "      <th>min</th>\n",
       "      <td>0.000000</td>\n",
       "      <td>80.000000</td>\n",
       "      <td>4.000000</td>\n",
       "    </tr>\n",
       "    <tr>\n",
       "      <th>25%</th>\n",
       "      <td>32492.500000</td>\n",
       "      <td>86.000000</td>\n",
       "      <td>17.000000</td>\n",
       "    </tr>\n",
       "    <tr>\n",
       "      <th>50%</th>\n",
       "      <td>64985.000000</td>\n",
       "      <td>88.000000</td>\n",
       "      <td>25.000000</td>\n",
       "    </tr>\n",
       "    <tr>\n",
       "      <th>75%</th>\n",
       "      <td>97477.500000</td>\n",
       "      <td>91.000000</td>\n",
       "      <td>42.000000</td>\n",
       "    </tr>\n",
       "    <tr>\n",
       "      <th>max</th>\n",
       "      <td>129970.000000</td>\n",
       "      <td>100.000000</td>\n",
       "      <td>3300.000000</td>\n",
       "    </tr>\n",
       "  </tbody>\n",
       "</table>\n",
       "</div>"
      ],
      "text/plain": [
       "          Unnamed: 0         points          price\n",
       "count  129971.000000  129971.000000  120975.000000\n",
       "mean    64985.000000      88.447138      35.363389\n",
       "std     37519.540256       3.039730      41.022218\n",
       "min         0.000000      80.000000       4.000000\n",
       "25%     32492.500000      86.000000      17.000000\n",
       "50%     64985.000000      88.000000      25.000000\n",
       "75%     97477.500000      91.000000      42.000000\n",
       "max    129970.000000     100.000000    3300.000000"
      ]
     },
     "execution_count": 24,
     "metadata": {},
     "output_type": "execute_result"
    }
   ],
   "source": [
    "df.describe()"
   ]
  },
  {
   "cell_type": "code",
   "execution_count": 25,
   "metadata": {},
   "outputs": [
    {
     "data": {
      "text/plain": [
       "129971"
      ]
     },
     "execution_count": 25,
     "metadata": {},
     "output_type": "execute_result"
    }
   ],
   "source": [
    "len(df)"
   ]
  },
  {
   "cell_type": "code",
   "execution_count": 70,
   "metadata": {},
   "outputs": [
    {
     "name": "stdout",
     "output_type": "stream",
     "text": [
      "<class 'pandas.core.frame.DataFrame'>\n",
      "RangeIndex: 129971 entries, 0 to 129970\n",
      "Data columns (total 14 columns):\n",
      " #   Column                 Non-Null Count   Dtype  \n",
      "---  ------                 --------------   -----  \n",
      " 0   Unnamed: 0             129971 non-null  int64  \n",
      " 1   country                129908 non-null  object \n",
      " 2   description            129971 non-null  object \n",
      " 3   designation            92506 non-null   object \n",
      " 4   points                 129971 non-null  int64  \n",
      " 5   price                  120975 non-null  float64\n",
      " 6   province               129908 non-null  object \n",
      " 7   region_1               108724 non-null  object \n",
      " 8   region_2               50511 non-null   object \n",
      " 9   taster_name            103727 non-null  object \n",
      " 10  taster_twitter_handle  98758 non-null   object \n",
      " 11  title                  129971 non-null  object \n",
      " 12  variety                129970 non-null  object \n",
      " 13  winery                 129971 non-null  object \n",
      "dtypes: float64(1), int64(2), object(11)\n",
      "memory usage: 13.9+ MB\n"
     ]
    }
   ],
   "source": [
    "df.info()"
   ]
  },
  {
   "cell_type": "code",
   "execution_count": 68,
   "metadata": {},
   "outputs": [
    {
     "data": {
      "text/plain": [
       "(129971, 14)"
      ]
     },
     "execution_count": 68,
     "metadata": {},
     "output_type": "execute_result"
    }
   ],
   "source": [
    "df.shape"
   ]
  },
  {
   "cell_type": "code",
   "execution_count": 26,
   "metadata": {},
   "outputs": [
    {
     "data": {
      "text/plain": [
       "Index(['Unnamed: 0', 'country', 'description', 'designation', 'points',\n",
       "       'price', 'province', 'region_1', 'region_2', 'taster_name',\n",
       "       'taster_twitter_handle', 'title', 'variety', 'winery'],\n",
       "      dtype='object')"
      ]
     },
     "execution_count": 26,
     "metadata": {},
     "output_type": "execute_result"
    }
   ],
   "source": [
    "df.columns"
   ]
  },
  {
   "cell_type": "code",
   "execution_count": 27,
   "metadata": {},
   "outputs": [
    {
     "data": {
      "text/plain": [
       "Unnamed: 0                   0\n",
       "country                     63\n",
       "description                  0\n",
       "designation              37465\n",
       "points                       0\n",
       "price                     8996\n",
       "province                    63\n",
       "region_1                 21247\n",
       "region_2                 79460\n",
       "taster_name              26244\n",
       "taster_twitter_handle    31213\n",
       "title                        0\n",
       "variety                      1\n",
       "winery                       0\n",
       "dtype: int64"
      ]
     },
     "execution_count": 27,
     "metadata": {},
     "output_type": "execute_result"
    }
   ],
   "source": [
    "#count NA objects \n",
    "df.isna().sum()"
   ]
  },
  {
   "cell_type": "code",
   "execution_count": null,
   "metadata": {},
   "outputs": [],
   "source": []
  },
  {
   "cell_type": "code",
   "execution_count": 29,
   "metadata": {},
   "outputs": [
    {
     "data": {
      "text/plain": [
       "country\n",
       "Argentina                  3800\n",
       "Armenia                       2\n",
       "Australia                  2329\n",
       "Austria                    3345\n",
       "Bosnia and Herzegovina        2\n",
       "Brazil                       52\n",
       "Bulgaria                    141\n",
       "Canada                      257\n",
       "Chile                      4472\n",
       "China                         1\n",
       "Croatia                      73\n",
       "Cyprus                       11\n",
       "Czech Republic               12\n",
       "Egypt                         1\n",
       "England                      74\n",
       "France                    22093\n",
       "Georgia                      86\n",
       "Germany                    2165\n",
       "Greece                      466\n",
       "Hungary                     146\n",
       "India                         9\n",
       "Israel                      505\n",
       "Italy                     19540\n",
       "Lebanon                      35\n",
       "Luxembourg                    6\n",
       "Macedonia                    12\n",
       "Mexico                       70\n",
       "Moldova                      59\n",
       "Morocco                      28\n",
       "New Zealand                1419\n",
       "Peru                         16\n",
       "Portugal                   5691\n",
       "Romania                     120\n",
       "Serbia                       12\n",
       "Slovakia                      1\n",
       "Slovenia                     87\n",
       "South Africa               1401\n",
       "Spain                      6645\n",
       "Switzerland                   7\n",
       "Turkey                       90\n",
       "US                        54504\n",
       "Ukraine                      14\n",
       "Uruguay                     109\n",
       "Name: description, dtype: int64"
      ]
     },
     "execution_count": 29,
     "metadata": {},
     "output_type": "execute_result"
    }
   ],
   "source": [
    "df.groupby('country')['description'].count()"
   ]
  },
  {
   "cell_type": "code",
   "execution_count": 30,
   "metadata": {},
   "outputs": [
    {
     "data": {
      "text/plain": [
       "region_1\n",
       "Abruzzo                  6\n",
       "Adelaida District      110\n",
       "Adelaide                16\n",
       "Adelaide Hills         107\n",
       "Adelaide Plains          4\n",
       "                      ... \n",
       "Yolo County             47\n",
       "York Mountain            9\n",
       "Yorkville Highlands     79\n",
       "Yountville              92\n",
       "Zonda Valley             3\n",
       "Name: description, Length: 1229, dtype: int64"
      ]
     },
     "execution_count": 30,
     "metadata": {},
     "output_type": "execute_result"
    }
   ],
   "source": [
    "df.groupby('region_1')['description'].count()"
   ]
  },
  {
   "cell_type": "code",
   "execution_count": 31,
   "metadata": {},
   "outputs": [
    {
     "data": {
      "text/plain": [
       "taster_name\n",
       "Alexander Peartree      415\n",
       "Anna Lee C. Iijima     4415\n",
       "Anne Krebiehl MW       3685\n",
       "Carrie Dykes            139\n",
       "Christina Pickard         6\n",
       "Fiona Adams              27\n",
       "Jeff Jenssen            491\n",
       "Jim Gordon             4177\n",
       "Joe Czerwinski         5147\n",
       "Kerin O’Keefe         10776\n",
       "Lauren Buzzeo          1835\n",
       "Matt Kettmann          6332\n",
       "Michael Schachner     15134\n",
       "Mike DeSimone           514\n",
       "Paul Gregutt           9532\n",
       "Roger Voss            25514\n",
       "Sean P. Sullivan       4966\n",
       "Susan Kostrzewa        1085\n",
       "Virginie Boone         9537\n",
       "Name: description, dtype: int64"
      ]
     },
     "execution_count": 31,
     "metadata": {},
     "output_type": "execute_result"
    }
   ],
   "source": [
    "#count of all the people and their number of judged tastings \n",
    "df.groupby('taster_name')['description'].count()"
   ]
  },
  {
   "cell_type": "code",
   "execution_count": 32,
   "metadata": {},
   "outputs": [
    {
     "data": {
      "text/plain": [
       "variety\n",
       "Abouriou          3\n",
       "Agiorgitiko      63\n",
       "Aglianico       359\n",
       "Aidani            1\n",
       "Airen             3\n",
       "               ... \n",
       "Zinfandel      2714\n",
       "Zlahtina          2\n",
       "Zweigelt        209\n",
       "Çalkarası         2\n",
       "Žilavka           1\n",
       "Name: description, Length: 707, dtype: int64"
      ]
     },
     "execution_count": 32,
     "metadata": {},
     "output_type": "execute_result"
    }
   ],
   "source": [
    "df.groupby('variety')['description'].count()"
   ]
  },
  {
   "cell_type": "code",
   "execution_count": 33,
   "metadata": {},
   "outputs": [
    {
     "data": {
      "text/plain": [
       "winery\n",
       "1+1=3                   6\n",
       "10 Knots                4\n",
       "100 Percent Wine        3\n",
       "1000 Stories            2\n",
       "1070 Green              1\n",
       "                       ..\n",
       "Órale                   1\n",
       "Öko                     2\n",
       "Ökonomierat Rebholz     4\n",
       "àMaurice               40\n",
       "Štoka                   3\n",
       "Name: description, Length: 16757, dtype: int64"
      ]
     },
     "execution_count": 33,
     "metadata": {},
     "output_type": "execute_result"
    }
   ],
   "source": [
    "df.groupby('winery')['description'].count()"
   ]
  },
  {
   "cell_type": "code",
   "execution_count": 34,
   "metadata": {},
   "outputs": [
    {
     "data": {
      "text/plain": [
       "35.363389129985535"
      ]
     },
     "execution_count": 34,
     "metadata": {},
     "output_type": "execute_result"
    }
   ],
   "source": [
    "df['price'].mean()"
   ]
  },
  {
   "cell_type": "code",
   "execution_count": 35,
   "metadata": {},
   "outputs": [
    {
     "data": {
      "text/plain": [
       "4.0"
      ]
     },
     "execution_count": 35,
     "metadata": {},
     "output_type": "execute_result"
    }
   ],
   "source": [
    "df['price'].min()"
   ]
  },
  {
   "cell_type": "code",
   "execution_count": 36,
   "metadata": {},
   "outputs": [
    {
     "data": {
      "text/plain": [
       "3300.0"
      ]
     },
     "execution_count": 36,
     "metadata": {},
     "output_type": "execute_result"
    }
   ],
   "source": [
    "df['price'].max()"
   ]
  },
  {
   "cell_type": "code",
   "execution_count": 37,
   "metadata": {},
   "outputs": [
    {
     "data": {
      "text/plain": [
       "88.44713820775404"
      ]
     },
     "execution_count": 37,
     "metadata": {},
     "output_type": "execute_result"
    }
   ],
   "source": [
    "df['points'].mean()"
   ]
  },
  {
   "cell_type": "code",
   "execution_count": 38,
   "metadata": {},
   "outputs": [
    {
     "data": {
      "text/plain": [
       "80"
      ]
     },
     "execution_count": 38,
     "metadata": {},
     "output_type": "execute_result"
    }
   ],
   "source": [
    "df['points'].min()"
   ]
  },
  {
   "cell_type": "code",
   "execution_count": 39,
   "metadata": {
    "scrolled": true
   },
   "outputs": [
    {
     "data": {
      "text/plain": [
       "100"
      ]
     },
     "execution_count": 39,
     "metadata": {},
     "output_type": "execute_result"
    }
   ],
   "source": [
    "df['points'].max()"
   ]
  },
  {
   "cell_type": "code",
   "execution_count": 40,
   "metadata": {},
   "outputs": [
    {
     "data": {
      "text/plain": [
       "129971"
      ]
     },
     "execution_count": 40,
     "metadata": {},
     "output_type": "execute_result"
    }
   ],
   "source": [
    "len(df)"
   ]
  },
  {
   "cell_type": "code",
   "execution_count": null,
   "metadata": {},
   "outputs": [],
   "source": []
  },
  {
   "cell_type": "code",
   "execution_count": null,
   "metadata": {},
   "outputs": [],
   "source": [
    "#mySQL connection "
   ]
  },
  {
   "cell_type": "code",
   "execution_count": 27,
   "metadata": {},
   "outputs": [
    {
     "name": "stdout",
     "output_type": "stream",
     "text": [
      "Collecting mysql-connector-python\n",
      "  Downloading mysql_connector_python-8.0.22-cp38-cp38-win_amd64.whl (842 kB)\n",
      "Collecting protobuf>=3.0.0\n",
      "  Downloading protobuf-3.14.0-py2.py3-none-any.whl (173 kB)\n",
      "Requirement already satisfied: six>=1.9 in c:\\programdata\\anaconda3\\lib\\site-packages (from protobuf>=3.0.0->mysql-connector-python) (1.15.0)\n",
      "Installing collected packages: protobuf, mysql-connector-python\n",
      "Successfully installed mysql-connector-python-8.0.22 protobuf-3.14.0\n",
      "Note: you may need to restart the kernel to use updated packages.\n"
     ]
    }
   ],
   "source": [
    "pip install mysql-connector-python"
   ]
  },
  {
   "cell_type": "code",
   "execution_count": 8,
   "metadata": {},
   "outputs": [],
   "source": [
    "import mysql.connector\n",
    "from mysql.connector import Error"
   ]
  },
  {
   "cell_type": "code",
   "execution_count": 9,
   "metadata": {},
   "outputs": [],
   "source": [
    "def create_server_connection(host_name, user_name, user_password):\n",
    "    connection = None\n",
    "    try:\n",
    "        connection = mysql.connector.connect(\n",
    "            host=host_name,\n",
    "            user=user_name,\n",
    "            passwd=user_password\n",
    "        )\n",
    "        print(\"MySQL Database connection successful\")\n",
    "    except Error as err:\n",
    "        print(f\"Error: '{err}'\")\n",
    "\n",
    "    return connection"
   ]
  },
  {
   "cell_type": "code",
   "execution_count": 10,
   "metadata": {},
   "outputs": [
    {
     "name": "stdout",
     "output_type": "stream",
     "text": [
      "MySQL Database connection successful\n"
     ]
    }
   ],
   "source": [
    "connection = create_server_connection('localhost','root','root')"
   ]
  },
  {
   "cell_type": "code",
   "execution_count": 11,
   "metadata": {},
   "outputs": [],
   "source": [
    "cursor = connection.cursor()"
   ]
  },
  {
   "cell_type": "code",
   "execution_count": 12,
   "metadata": {},
   "outputs": [],
   "source": [
    "cursor.execute(\"CREATE DATABASE teamd3_wine_db\")"
   ]
  },
  {
   "cell_type": "code",
   "execution_count": 14,
   "metadata": {
    "scrolled": true
   },
   "outputs": [
    {
     "name": "stdout",
     "output_type": "stream",
     "text": [
      "('adg',)\n",
      "('assign',)\n",
      "('binpacking',)\n",
      "('cheetahrunning',)\n",
      "('cheetahrunning_short',)\n",
      "('etl_project',)\n",
      "('final',)\n",
      "('information_schema',)\n",
      "('knapsack',)\n",
      "('movies',)\n",
      "('mst_dt',)\n",
      "('mst_fast',)\n",
      "('mysql',)\n",
      "('nasdaq1',)\n",
      "('performance_schema',)\n",
      "('project_2',)\n",
      "('project_fact',)\n",
      "('sql-challenge',)\n",
      "('sys',)\n",
      "('teamd3_wine_db',)\n",
      "('ww_final',)\n",
      "('zagi_dw',)\n"
     ]
    }
   ],
   "source": [
    "cursor.execute(\"SHOW DATABASES\")\n",
    "\n",
    "for x in cursor: \n",
    "    print(x)"
   ]
  },
  {
   "cell_type": "code",
   "execution_count": 44,
   "metadata": {},
   "outputs": [],
   "source": [
    "cursor.execute(\"USE teamd3_wine_db\")"
   ]
  },
  {
   "cell_type": "code",
   "execution_count": 45,
   "metadata": {},
   "outputs": [],
   "source": [
    "cursor.execute(\"CREATE TABLE wine (wine_entry_id INT AUTO_INCREMENT PRIMARY KEY, price INT, points INT, variety varchar(100), winery varchar(100), province varchar(100), country varchar(100), lat FLOAT (10,7), lng FLOAT (10,7))\")"
   ]
  },
  {
   "cell_type": "code",
   "execution_count": 66,
   "metadata": {},
   "outputs": [
    {
     "name": "stdout",
     "output_type": "stream",
     "text": [
      "(85, 97, 'Cabernet Sauvignon', 'Abeja', 'Washington', 'US', 46.08734896, -118.2255228)\n",
      "(130, 97, 'Cabernet Sauvignon', 'Alpha Omega', 'California', 'US', 38.47070948, -122.4284246)\n",
      "(125, 97, 'Sangiovese', 'Altesino', 'Tuscany', 'Italy', 43.10272554, 11.49138268)\n",
      "(115, 97, 'Red Blend', 'Antinori', 'Tuscany', 'Italy', 43.61275733, 11.19130707)\n",
      "(90, 97, 'Pinot Noir', 'Arista', 'California', 'US', 38.52421475, -122.8679891)\n",
      "(120, 97, 'Bordeaux-style Red Blend', 'Arkenstone', 'California', 'US', 38.56499553, -122.463911)\n",
      "(250, 97, 'Cabernet Sauvignon', 'Au Sommet', 'California', 'US', 38.44352341, -122.2425097)\n",
      "(170, 97, 'White Blend', 'Avignonesi', 'Tuscany', 'Italy', 43.17419131, 11.93445678)\n",
      "(55, 97, 'Cabernet Sauvignon', 'Betz Family', 'Washington', 'US', 47.71924333, -122.1314005)\n",
      "(60, 97, 'Cabernet Sauvignon', 'Betz Family', 'Washington', 'US', 47.71924333, -122.1314005)\n",
      "(68, 97, 'Cabernet Sauvignon', 'Betz Family', 'Washington', 'US', 47.71924333, -122.1314005)\n",
      "(85, 97, 'Cabernet Sauvignon', 'Black Coyote', 'California', 'US', 38.31977903, -122.2256801)\n",
      "(90, 97, 'Bordeaux-style Red Blend', 'Blackbird Vineyards', 'California', 'US', 38.29946003, -122.2806237)\n",
      "(120, 97, 'Malbec', 'Bodega Catena Zapata', 'Mendoza Province', 'Argentina', -33.16668614, -68.9024718)\n",
      "(88, 97, 'Monastrell', 'Bodegas Gutiérrez de la Vega', 'Levante', 'Spain', 39.6824, 2.7168)\n",
      "(250, 97, 'Tempranillo', 'Bodegas Roda', 'Northern Spain', 'Spain', 42.585859, -2.843271134)\n",
      "(260, 97, 'Champagne Blend', 'Bollinger', 'Champagne', 'France', 49.07818462, 3.9650023)\n",
      "(275, 97, 'Bordeaux-style Red Blend', 'BOND', 'California', 'US', 38.5109751, -122.400027)\n",
      "(55, 97, 'Red Blend', 'Buty', 'Washington', 'US', 46.08780245, -118.2698039)\n",
      "(85, 97, 'Muscat', 'Campbells', 'Victoria', 'Australia', -36.0608846, 146.4359125)\n",
      "(97, 97, 'Muscat', 'Campbells', 'Victoria', 'Australia', -36.0608846, 146.4359125)\n",
      "(85, 97, 'Tokay', 'Campbells', 'Victoria', 'Australia', -36.0608846, 146.4359125)\n",
      "(55, 97, 'Sangiovese Grosso', 'Capanna', 'Tuscany', 'Italy', 43.9834924, 11.33687136)\n",
      "(250, 97, 'Cabernet Sauvignon', 'Cardinale', 'California', 'US', 38.92189815, -119.2958656)\n",
      "(79, 97, 'Sangiovese Grosso', 'Casanova di Neri', 'Tuscany', 'Italy', 43.0579881, 11.52638883)\n",
      "(80, 97, 'Sangiovese Grosso', 'Casanova di Neri', 'Tuscany', 'Italy', 43.0579881, 11.52638883)\n",
      "(180, 97, 'Merlot', 'Castello di Ama', 'Tuscany', 'Italy', 43.44227222, 11.38822241)\n",
      "(130, 97, 'Cabernet Sauvignon', 'Caymus', 'California', 'US', 38.47039817, -122.3943474)\n",
      "(136, 97, 'Cabernet Sauvignon', 'Caymus', 'California', 'US', 38.47039817, -122.3943474)\n",
      "(80, 97, 'Cabernet Sauvignon', 'Cayuse', 'Oregon', 'US', 45.96229531, -118.4233261)\n",
      "(70, 97, 'Syrah', 'Cayuse', 'Oregon', 'US', 45.96229531, -118.4233261)\n",
      "(85, 97, 'Syrah', 'Cayuse', 'Oregon', 'US', 45.96229531, -118.4233261)\n",
      "(145, 97, 'Bordeaux-style Red Blend', \"ChÃƒÂ¢teau Cos d'Estournel\", 'Bordeaux', 'France', 45.2315, -0.7727)\n",
      "(90, 97, 'Bordeaux-style Red Blend', 'ChÃƒÂ¢teau Figeac', 'Bordeaux', 'France', 44.9135, -0.1903)\n",
      "(330, 97, 'Bordeaux-style Red Blend', 'ChÃƒÂ¢teau Haut-Brion', 'Bordeaux', 'France', 44.8117, -0.5964)\n",
      "(1100, 97, 'Bordeaux-style Red Blend', 'ChÃƒÂ¢teau La Mission Haut-Brion', 'Bordeaux', 'France', 44.8169, -0.6057)\n",
      "(698, 97, 'Bordeaux-style White Blend', 'ChÃƒÂ¢teau La Mission Haut-Brion', 'Bordeaux', 'France', 44.8169, -0.6057)\n",
      "(150, 97, 'Bordeaux-style Red Blend', 'ChÃƒÂ¢teau LÃƒÂ©oville Las Cases', 'Bordeaux', 'France', 45.1647, -0.7378)\n",
      "(190, 97, 'Bordeaux-style Red Blend', 'ChÃƒÂ¢teau LÃƒÂ©oville Las Cases', 'Bordeaux', 'France', 45.1647, -0.7378)\n",
      "(345, 97, 'Bordeaux-style Red Blend', 'ChÃƒÂ¢teau Lafite Rothschild', 'Bordeaux', 'France', 45.2258, -0.7716)\n",
      "(660, 97, 'Bordeaux-style Red Blend', 'ChÃƒÂ¢teau Latour', 'Bordeaux', 'France', 42.7678, 2.6601)\n",
      "(300, 97, 'Bordeaux-style Red Blend', 'ChÃƒÂ¢teau Margaux', 'Bordeaux', 'France', 45.046, -0.6634)\n",
      "(450, 97, 'Bordeaux-style Red Blend', 'ChÃƒÂ¢teau Margaux', 'Bordeaux', 'France', 45.046, -0.6634)\n",
      "(90, 97, 'Bordeaux-style White Blend', 'ChÃƒÂ¢teau Suduiraut', 'Bordeaux', 'France', 44.5569, -0.3174)\n",
      "(170, 97, 'Bordeaux-style Red Blend', 'ChÃƒÂ¢teau Troplong Mondot', 'Bordeaux', 'France', 44.8901, -0.1394)\n",
      "(300, 97, 'Muscadel', 'Chambers Rosewood Vineyards', 'Victoria', 'Australia', -36.04395429, 146.4518399)\n",
      "(120, 97, 'Syrah', 'Charles Smith', 'Washington', 'US', 47.6927088, -121.889555)\n",
      "(85, 97, 'Pinot Noir', 'Cobb', 'California', 'US', 38.39782588, -122.9956279)\n",
      "(140, 97, 'Bordeaux-style Red Blend', 'Continuum', 'California', 'US', 38.48371951, -122.3516986)\n",
      "(175, 97, 'Cabernet Sauvignon', 'Diamond Creek', 'California', 'US', 38.56564614, -122.5717237)\n",
      "(281, 97, 'Pinot Noir', 'Domaine Bruno Clair', 'Burgundy', 'France', 47.27268571, 4.992398316)\n",
      "(100, 97, 'Bordeaux-style White Blend', 'Domaine de Chevalier', 'Bordeaux', 'France', 44.72051243, -0.62955804)\n",
      "(96, 97, 'Syrah', 'Domaine Jamet', 'RhÃƒÂ´ne Valley', 'France', 45.51654152, 4.795032606)\n",
      "(410, 97, 'Chardonnay', 'Domaine Leflaive', 'Burgundy', 'France', 46.38243825, 4.800586439)\n",
      "(430, 97, 'Chardonnay', 'Domaine Leflaive', 'Burgundy', 'France', 46.38243825, 4.800586439)\n",
      "(451, 97, 'Chardonnay', 'Domaine Leflaive', 'Burgundy', 'France', 46.38243825, 4.800586439)\n",
      "(550, 97, 'Chardonnay', 'Domaine Leflaive', 'Burgundy', 'France', 46.38243825, 4.800586439)\n",
      "(574, 97, 'Chardonnay', 'Domaine Leflaive', 'Burgundy', 'France', 46.38243825, 4.800586439)\n",
      "(269, 97, 'Pinot Gris', 'Domaine Zind-Humbrecht', 'Alsace', 'France', 48.08431564, 7.297189002)\n",
      "(250, 97, 'Riesling', 'Dr. Pauly Bergweiler', 'Mosel-Saar-Ruwer', 'Germany', 49.9153787, 7.076114103)\n",
      "(50, 97, 'Chardonnay', 'Dutton-Goldfield', 'California', 'US', 38.43796177, -122.8546855)\n",
      "(150, 97, 'Tinto Fino', 'Emilio Moro', 'Northern Spain', 'Spain', 41.643583, -4.148166242)\n",
      "(180, 97, 'Tinto Fino', 'Emilio Moro', 'Northern Spain', 'Spain', 41.643583, -4.148166242)\n",
      "(42, 97, 'Chardonnay', 'Failla', 'California', 'US', 38.54902401, -122.4887117)\n",
      "(60, 97, 'Pinot Noir', 'Failla', 'California', 'US', 38.54902401, -122.4887117)\n",
      "(70, 97, 'Pinot Noir', 'Failla', 'California', 'US', 38.54902401, -122.4887117)\n",
      "(100, 97, 'Merlot', 'Fattoria Petrolo', 'Tuscany', 'Italy', 43.47147682, 11.57255227)\n",
      "(70, 97, 'Chardonnay', 'Flowers', 'California', 'US', 38.56495179, -122.8705598)\n",
      "(210, 97, 'Nebbiolo', 'Gaja', 'Piedmont', 'Italy', 44.72612919, 8.081014048)\n",
      "(215, 97, 'Nebbiolo', 'Gaja', 'Piedmont', 'Italy', 44.72612919, 8.081014048)\n",
      "(190, 97, 'Cabernet Sauvignon', 'Gandona', 'California', 'US', 38.48365694, -122.3542277)\n",
      "(245, 97, 'Riesling', 'Geh. Rat Dr. von Bassermann-Jordan', 'Pfalz', 'Germany', 49.40865649, 8.187311218)\n",
      "(75, 97, 'Pinot Noir', 'Goldeneye', 'California', 'US', 39.05830256, -123.4301938)\n",
      "(85, 97, 'Cabernet Sauvignon', 'Goldschmidt', 'California', 'US', 38.67399686, -122.9228972)\n",
      "(150, 97, 'Bordeaux-style Red Blend', 'Harlan Estate', 'California', 'US', 38.42121153, -122.3987013)\n",
      "(185, 97, 'Champagne Blend', 'Henriot', 'Champagne', 'France', 52.90459241, 37.79277402)\n",
      "(100, 97, 'Cabernet Sauvignon', 'Hestan', 'California', 'US', 38.40362137, -122.3606952)\n",
      "(189, 97, 'Sparkling Blend', 'Iron Horse', 'California', 'US', 38.45692312, -122.897417)\n",
      "(135, 97, 'Cabernet Sauvignon', 'Janzen', 'California', 'US', 38.46661863, -122.4241577)\n",
      "(130, 97, 'Cabernet Sauvignon', 'Jarvis', 'California', 'US', 38.3555672, -122.2143398)\n",
      "(150, 97, 'Cabernet Sauvignon', 'JCB', 'California', 'US', 38.40537104, -122.3443186)\n",
      "(639, 97, 'Pinot Noir', 'Joseph Drouhin', 'Burgundy', 'France', 47.02609549, 4.846734081)\n",
      "(200, 97, 'Bordeaux-style Red Blend', 'Joseph Phelps', 'California', 'US', 38.50331256, -122.4249774)\n",
      "(200, 97, 'Bordeaux-style Red Blend', 'Joseph Phelps', 'California', 'US', 38.50331256, -122.4249774)\n",
      "(225, 97, 'Cabernet Sauvignon', 'Joseph Phelps', 'California', 'US', 38.50331256, -122.4249774)\n",
      "(52, 97, 'Pinot Noir', 'Joseph Swan Vineyards', 'California', 'US', 38.48388036, -122.8469136)\n",
      "(70, 97, 'Syrah', 'K Vintners', 'Washington', 'US', 46.08601174, -118.249623)\n",
      "(65, 97, 'Pinot Noir', 'Ken Wright', 'Oregon', 'US', 45.29509004, -123.174571)\n",
      "(125, 97, 'Bordeaux-style Red Blend', 'Kendall-Jackson', 'California', 'US', 38.50734388, -122.7699726)\n",
      "(90, 97, 'Chardonnay', 'Kracher', 'Burgenland', 'Austria', 47.74538559, 16.82944551)\n",
      "(111, 97, 'Chardonnay', 'Kracher', 'Burgenland', 'Austria', 47.74538559, 16.82944551)\n",
      "(125, 97, 'Scheurebe', 'Kracher', 'Burgenland', 'Austria', 47.74538559, 16.82944551)\n",
      "(70, 97, 'Cabernet Sauvignon', 'Krutz', 'California', 'US', 38.47212396, -122.7396835)\n",
      "(65, 97, 'Cabernet Sauvignon', 'Lancaster', 'California', 'US', 38.62625124, -122.7717756)\n",
      "(130, 97, 'Cabernet Franc', 'Le Macchiole', 'Tuscany', 'Italy', 43.20830884, 10.61385053)\n",
      "(315, 97, 'Merlot', 'Le Macchiole', 'Tuscany', 'Italy', 43.20830884, 10.61385053)\n",
      "(160, 97, 'Syrah', 'Le Macchiole', 'Tuscany', 'Italy', 43.20830884, 10.61385053)\n",
      "(110, 97, 'Cabernet Blend', 'Leonetti Cellar', 'Washington', 'US', 46.0568156, -118.2927756)\n",
      "(85, 97, 'Cabernet Sauvignon', 'Leonetti Cellar', 'Washington', 'US', 46.0568156, -118.2927756)\n",
      "(88, 97, 'Cabernet Sauvignon', 'Leonetti Cellar', 'Washington', 'US', 46.0568156, -118.2927756)\n",
      "(90, 97, 'Picolit', 'Livio Felluga', 'Northeastern Italy', 'Italy', 45.97306392, 13.46012344)\n",
      "(330, 97, 'Chardonnay', 'Louis Jadot', 'Burgundy', 'France', 47.03813452, 4.843854417)\n",
      "(95, 97, 'Pinot Noir', 'Louis Jadot', 'Burgundy', 'France', 47.03813452, 4.843854417)\n",
      "(260, 97, 'Pinot Noir', 'Louis Jadot', 'Burgundy', 'France', 47.03813452, 4.843854417)\n",
      "(288, 97, 'Pinot Noir', 'Louis Jadot', 'Burgundy', 'France', 47.03813452, 4.843854417)\n",
      "(300, 97, 'Pinot Noir', 'Louis Jadot', 'Burgundy', 'France', 47.03813452, 4.843854417)\n",
      "(468, 97, 'Pinot Noir', 'Louis Jadot', 'Burgundy', 'France', 47.03813452, 4.843854417)\n",
      "(229, 97, 'Champagne Blend', 'Louis Roederer', 'Champagne', 'France', 49.2600713, 4.03623673)\n",
      "(249, 97, 'Champagne Blend', 'Louis Roederer', 'Champagne', 'France', 49.2600713, 4.03623673)\n",
      "(93, 97, 'Sangiovese Grosso', 'Luce della Vite', 'Tuscany', 'Italy', 43.039298, 11.40836358)\n",
      "(70, 97, 'Pinot Noir', 'Lynmar', 'California', 'US', 38.44277463, -122.8428991)\n",
      "(100, 97, 'Pinot Noir', 'Lynmar', 'California', 'US', 38.44277463, -122.8428991)\n",
      "(95, 97, 'Red Blend', 'Marchesi Antinori', 'Tuscany', 'Italy', 43.6156271, 11.19246156)\n",
      "(102, 97, 'Red Blend', 'Marchesi Antinori', 'Tuscany', 'Italy', 43.6156271, 11.19246156)\n",
      "(325, 97, 'Red Blend', 'Marchesi Antinori', 'Tuscany', 'Italy', 43.6156271, 11.19246156)\n",
      "(100, 97, 'Sangiovese', \"Marchesi de' Frescobaldi\", 'Tuscany', 'Italy', 43.67171614, 11.09578328)\n",
      "(550, 97, 'Merlot', 'Masseto', 'Tuscany', 'Italy', 43.16029828, 10.61057222)\n",
      "(52, 97, 'Pinot Noir', 'Melville', 'California', 'US', 34.74260093, -120.1597425)\n",
      "(54, 97, 'Pinot Noir', 'Merry Edwards', 'California', 'US', 38.43548475, -122.8538718)\n",
      "(90, 97, 'Cabernet Sauvignon', 'Napa Angel', 'California', 'US', 38.36928997, -122.3240387)\n",
      "(100, 97, 'Red Blend', 'Niebaum-Coppola', 'California', 'US', 38.45032528, -122.4331933)\n",
      "(80, 97, 'Port', 'Niepoort', 'Portugal', 'Portugal', 41.14903878, -7.640096596)\n",
      "(95, 97, 'Port', 'Niepoort', 'Port', 'Portugal', 41.14903878, -7.640096596)\n",
      "(240, 97, 'Red Blend', 'Ornellaia', 'Tuscany', 'Italy', 43.21423701, 10.61907412)\n",
      "(195, 97, 'Bordeaux-style Red Blend', 'Ovid', 'California', 'US', 38.46152313, -122.3403535)\n",
      "(150, 97, 'Cabernet Sauvignon', 'Paul Hobbs', 'California', 'US', 38.44058414, -122.8552125)\n",
      "(225, 97, 'Cabernet Sauvignon', 'Penfolds', 'South Australia', 'Australia', -34.44207772, 139.105445)\n",
      "(150, 97, 'Shiraz', 'Penfolds', 'South Australia', 'Australia', -34.44207772, 139.105445)\n",
      "(600, 97, 'Shiraz', 'Penfolds', 'South Australia', 'Australia', -34.44207772, 139.105445)\n",
      "(275, 97, 'Champagne Blend', 'Pol Roger', 'Champagne', 'France', 49.04067091, 3.964082419)\n",
      "(95, 97, 'Cabernet Sauvignon', 'Quilceda Creek', 'Washington', 'US', 47.94927689, -122.0773571)\n",
      "(100, 97, 'Portuguese Red', 'Quinta do Vale MeÃƒÂ£o', 'Douro', 'Portugal', 41.1544, -7.1179)\n",
      "(95, 97, 'Syrah', 'QupÃƒÂ©', 'California', 'US', 38.5132, -122.7887)\n",
      "(65, 97, 'Chardonnay', 'Ramey', 'California', 'US', 38.60411277, -122.8605049)\n",
      "(65, 97, 'Cabernet Sauvignon', 'Redmon', 'California', 'US', 38.50059129, -122.455054)\n",
      "(120, 97, 'Red Blend', 'Ridge', 'California', 'US', 37.35117714, -122.0178084)\n",
      "(612, 97, 'Riesling', 'Robert Weil', 'Rheingau', 'Germany', 50.04160091, 8.089119871)\n",
      "(60, 97, 'Chardonnay', 'Rochioli', 'California', 'US', 38.53590477, -122.8651521)\n",
      "(350, 97, 'Chardonnay', 'Salon', 'Champagne', 'France', 48.94659767, 4.018617369)\n",
      "(65, 97, 'Tempranillo Blend', 'San Vicente', 'Northern Spain', 'Spain', 42.56417081, -2.755098863)\n",
      "(445, 97, 'Riesling', 'Schloss Johannisberger', 'Rheingau', 'Germany', 50.0005233, 7.986676949)\n",
      "(486, 97, 'Riesling', 'Schloss Johannisberger', 'Rheingau', 'Germany', 50.0005233, 7.986676949)\n",
      "(175, 97, 'Champagne Blend', 'Schramsberg', 'California', 'US', 38.55018599, -122.5344506)\n",
      "(80, 97, 'Pinot Noir', 'Sea Smoke', 'California', 'US', 34.68159628, -120.3731923)\n",
      "(85, 97, 'Pinot Noir', 'Semper', 'California', 'US', 38.5824621, -122.5596265)\n",
      "(50, 97, 'Pinot Noir', 'Sequana', 'California', 'US', 38.40777745, -122.8352222)\n",
      "(190, 97, 'Cabernet Sauvignon', 'Shafer', 'California', 'US', 38.42169313, -122.3247343)\n",
      "(225, 97, 'Cabernet Sauvignon', 'Shafer', 'California', 'US', 38.42169313, -122.3247343)\n",
      "(110, 97, 'Bordeaux-style Red Blend', 'Signorello', 'California', 'US', 38.37127037, -122.2938366)\n",
      "(130, 97, 'Cabernet Sauvignon', 'Spottswoode', 'California', 'US', 38.50058173, -122.4772277)\n",
      "(195, 97, 'Cabernet Sauvignon', \"Stag's Leap Wine Cellars\", 'California', 'US', 38.41470807, -122.3183922)\n",
      "(75, 97, 'Cabernet Sauvignon', 'Stonestreet', 'California', 'US', 38.66321899, -122.8138768)\n",
      "(70, 97, 'Pinot Noir', 'Talley', 'California', 'US', 35.17945694, -120.5214585)\n",
      "(225, 97, 'Port', 'Taylor Fladgate', 'Port', 'Portugal', 41.13446893, -8.612741987)\n",
      "(240, 97, 'Merlot', \"Tenuta dell'Ornellaia\", 'Tuscany', 'Italy', 43.04635261, 11.49918565)\n",
      "(460, 97, 'Merlot', \"Tenuta dell'Ornellaia\", 'Tuscany', 'Italy', 43.04635261, 11.49918565)\n",
      "(200, 97, 'Red Blend', \"Tenuta dell'Ornellaia\", 'Tuscany', 'Italy', 43.04635261, 11.49918565)\n",
      "(200, 97, 'Red Blend', \"Tenuta dell'Ornellaia\", 'Tuscany', 'Italy', 43.04635261, 11.49918565)\n",
      "(215, 97, 'Red Blend', \"Tenuta dell'Ornellaia\", 'Tuscany', 'Italy', 43.04635261, 11.49918565)\n",
      "(240, 97, 'Red Blend', \"Tenuta dell'Ornellaia\", 'Tuscany', 'Italy', 43.04635261, 11.49918565)\n",
      "(190, 97, 'Red Blend', 'Tenuta San Guido', 'Tuscany', 'Italy', 43.23241505, 10.60063566)\n",
      "(220, 97, 'Red Blend', 'Tenuta San Guido', 'Tuscany', 'Italy', 43.23241505, 10.60063566)\n",
      "(227, 97, 'Red Blend', 'Tenuta San Guido', 'Tuscany', 'Italy', 43.23241505, 10.60063566)\n",
      "(227, 97, 'Tinta de Toro', 'Teso La Monja', 'Northern Spain', 'Spain', 41.45564496, -5.445155256)\n",
      "(150, 97, 'Bordeaux-style Red Blend', 'The Maiden', 'California', 'US', 43.23240723, 10.6005391)\n",
      "(105, 97, 'Shiraz', 'Torbreck', 'South Australia', 'Australia', -34.47631789, 138.9526178)\n",
      "(50, 97, 'Cabernet Sauvignon', 'Trefethen', 'California', 'US', 38.35671114, -122.3226488)\n",
      "(350, 97, 'Merlot', 'Tua Rita', 'Tuscany', 'Italy', 43.06422453, 10.69156402)\n",
      "(130, 97, 'Sangiovese', 'Valdicava', 'Tuscany', 'Italy', 43.07698994, 11.49259244)\n",
      "(208, 97, 'Champagne Blend', 'Veuve Clicquot Ponsardin', 'Champagne', 'France', 48.24164583, 5.118783267)\n",
      "(150, 97, 'Tempranillo', 'ViÃƒÂ±edos de Paganos', 'Northern Spain', 'Spain', 42.55790582, -2.605660358)\n",
      "(130, 97, 'Nebbiolo', 'Vietti', 'Piedmont', 'Italy', 44.62450726, 7.981125138)\n",
      "(130, 97, 'Bordeaux-style Red Blend', 'Vieux ChÃƒÂ¢teau Certan', 'Bordeaux', 'France', 44.9271, -0.1974)\n",
      "(150, 97, 'Cabernet Sauvignon', 'Vine Cliff', 'California', 'US', 38.44790421, -122.3482437)\n",
      "(250, 97, 'Riesling', 'Von Othegraven', 'Mosel-Saar-Ruwer', 'Germany', 49.6710893, 6.580581356)\n",
      "(100, 97, 'Red Blend', 'Von Strasser', 'California', 'US', 38.58786385, -122.572344)\n",
      "(95, 97, 'Chardonnay', 'William FÃƒÂ¨vre', 'Burgundy', 'France', 47.81366047, 3.803967328)\n",
      "(50, 97, 'Chardonnay', 'Williams Selyem', 'California', 'US', 38.52118296, -122.8661558)\n",
      "(59, 97, 'Pinot Noir', 'Williams Selyem', 'California', 'US', 38.52118296, -122.8661558)\n",
      "(72, 97, 'Pinot Noir', 'Williams Selyem', 'California', 'US', 38.52118296, -122.8661558)\n",
      "(75, 97, 'Pinot Noir', 'Williams Selyem', 'California', 'US', 38.52118296, -122.8661558)\n",
      "(78, 97, 'Pinot Noir', 'Williams Selyem', 'California', 'US', 38.52118296, -122.8661558)\n",
      "(82, 97, 'Pinot Noir', 'Williams Selyem', 'California', 'US', 38.52118296, -122.8661558)\n",
      "(85, 97, 'Pinot Noir', 'Williams Selyem', 'California', 'US', 38.52118296, -122.8661558)\n",
      "(95, 97, 'Pinot Noir', 'Williams Selyem', 'California', 'US', 38.52118296, -122.8661558)\n",
      "(125, 97, 'Pinot Noir', 'Williams Selyem', 'California', 'US', 38.52118296, -122.8661558)\n",
      "(625, 97, 'Cabernet Sauvignon', 'Yao Ming', 'California', 'US', 38.28844511, -122.2894188)\n"
     ]
    }
   ],
   "source": [
    "for index,row in final_df.iterrows(): \n",
    "    sql = \"INSERT INTO wine (price,points,variety,winery,province,country,lat,lng) VALUES (%s,%s,%s,%s,%s,%s,%s,%s)\" \n",
    "    price = row['price']\n",
    "    points = row['points']\n",
    "    variety = row['variety']\n",
    "    winery = row['winery']\n",
    "    province = row['province']\n",
    "    country = row['country']\n",
    "    lat = row['lat']\n",
    "    lng = row['lng']\n",
    "    \n",
    "    val = (price,points,variety,winery,province,country,lat,lng)\n",
    "    print(val)\n",
    "\n",
    "    cursor.execute(sql,val)\n",
    "    connection.commit()"
   ]
  },
  {
   "cell_type": "code",
   "execution_count": null,
   "metadata": {},
   "outputs": [],
   "source": []
  },
  {
   "cell_type": "code",
   "execution_count": null,
   "metadata": {},
   "outputs": [],
   "source": []
  },
  {
   "cell_type": "code",
   "execution_count": null,
   "metadata": {},
   "outputs": [],
   "source": []
  },
  {
   "cell_type": "code",
   "execution_count": 58,
   "metadata": {},
   "outputs": [
    {
     "data": {
      "text/plain": [
       "price         int64\n",
       "points        int64\n",
       "variety      object\n",
       "winery       object\n",
       "province     object\n",
       "country      object\n",
       "lat         float64\n",
       "lng         float64\n",
       "dtype: object"
      ]
     },
     "execution_count": 58,
     "metadata": {},
     "output_type": "execute_result"
    }
   ],
   "source": [
    "final_df.dtypes"
   ]
  },
  {
   "cell_type": "code",
   "execution_count": 67,
   "metadata": {},
   "outputs": [
    {
     "name": "stdout",
     "output_type": "stream",
     "text": [
      "(1, 85, 97, 'Cabernet Sauvignon', 'Abeja', 'Washington', 'US', 46.0873489, -118.2255249)\n",
      "(2, 130, 97, 'Cabernet Sauvignon', 'Alpha Omega', 'California', 'US', 38.4707108, -122.428421)\n",
      "(3, 125, 97, 'Sangiovese', 'Altesino', 'Tuscany', 'Italy', 43.102726, 11.4913826)\n",
      "(4, 115, 97, 'Red Blend', 'Antinori', 'Tuscany', 'Italy', 43.6127586, 11.1913071)\n",
      "(5, 90, 97, 'Pinot Noir', 'Arista', 'California', 'US', 38.5242157, -122.8679886)\n",
      "(6, 120, 97, 'Bordeaux-style Red Blend', 'Arkenstone', 'California', 'US', 38.5649948, -122.463913)\n",
      "(7, 250, 97, 'Cabernet Sauvignon', 'Au Sommet', 'California', 'US', 38.4435234, -122.2425079)\n",
      "(8, 170, 97, 'White Blend', 'Avignonesi', 'Tuscany', 'Italy', 43.1741905, 11.9344568)\n",
      "(9, 55, 97, 'Cabernet Sauvignon', 'Betz Family', 'Washington', 'US', 47.7192421, -122.1314011)\n",
      "(10, 60, 97, 'Cabernet Sauvignon', 'Betz Family', 'Washington', 'US', 47.7192421, -122.1314011)\n",
      "(11, 68, 97, 'Cabernet Sauvignon', 'Betz Family', 'Washington', 'US', 47.7192421, -122.1314011)\n",
      "(12, 85, 97, 'Cabernet Sauvignon', 'Black Coyote', 'California', 'US', 38.3197784, -122.2256775)\n",
      "(13, 90, 97, 'Bordeaux-style Red Blend', 'Blackbird Vineyards', 'California', 'US', 38.2994614, -122.2806244)\n",
      "(14, 120, 97, 'Malbec', 'Bodega Catena Zapata', 'Mendoza Province', 'Argentina', -33.166687, -68.9024734)\n",
      "(15, 85, 97, 'Cabernet Sauvignon', 'Abeja', 'Washington', 'US', 46.0873489, -118.2255249)\n",
      "(16, 130, 97, 'Cabernet Sauvignon', 'Alpha Omega', 'California', 'US', 38.4707108, -122.428421)\n",
      "(17, 125, 97, 'Sangiovese', 'Altesino', 'Tuscany', 'Italy', 43.102726, 11.4913826)\n",
      "(18, 115, 97, 'Red Blend', 'Antinori', 'Tuscany', 'Italy', 43.6127586, 11.1913071)\n",
      "(19, 90, 97, 'Pinot Noir', 'Arista', 'California', 'US', 38.5242157, -122.8679886)\n",
      "(20, 120, 97, 'Bordeaux-style Red Blend', 'Arkenstone', 'California', 'US', 38.5649948, -122.463913)\n",
      "(21, 250, 97, 'Cabernet Sauvignon', 'Au Sommet', 'California', 'US', 38.4435234, -122.2425079)\n",
      "(22, 170, 97, 'White Blend', 'Avignonesi', 'Tuscany', 'Italy', 43.1741905, 11.9344568)\n",
      "(23, 55, 97, 'Cabernet Sauvignon', 'Betz Family', 'Washington', 'US', 47.7192421, -122.1314011)\n",
      "(24, 60, 97, 'Cabernet Sauvignon', 'Betz Family', 'Washington', 'US', 47.7192421, -122.1314011)\n",
      "(25, 68, 97, 'Cabernet Sauvignon', 'Betz Family', 'Washington', 'US', 47.7192421, -122.1314011)\n",
      "(26, 85, 97, 'Cabernet Sauvignon', 'Black Coyote', 'California', 'US', 38.3197784, -122.2256775)\n",
      "(27, 90, 97, 'Bordeaux-style Red Blend', 'Blackbird Vineyards', 'California', 'US', 38.2994614, -122.2806244)\n",
      "(28, 120, 97, 'Malbec', 'Bodega Catena Zapata', 'Mendoza Province', 'Argentina', -33.166687, -68.9024734)\n",
      "(29, 85, 97, 'Cabernet Sauvignon', 'Abeja', 'Washington', 'US', 46.0873489, -118.2255249)\n",
      "(30, 130, 97, 'Cabernet Sauvignon', 'Alpha Omega', 'California', 'US', 38.4707108, -122.428421)\n",
      "(31, 125, 97, 'Sangiovese', 'Altesino', 'Tuscany', 'Italy', 43.102726, 11.4913826)\n",
      "(32, 115, 97, 'Red Blend', 'Antinori', 'Tuscany', 'Italy', 43.6127586, 11.1913071)\n",
      "(33, 90, 97, 'Pinot Noir', 'Arista', 'California', 'US', 38.5242157, -122.8679886)\n",
      "(34, 120, 97, 'Bordeaux-style Red Blend', 'Arkenstone', 'California', 'US', 38.5649948, -122.463913)\n",
      "(35, 250, 97, 'Cabernet Sauvignon', 'Au Sommet', 'California', 'US', 38.4435234, -122.2425079)\n",
      "(36, 170, 97, 'White Blend', 'Avignonesi', 'Tuscany', 'Italy', 43.1741905, 11.9344568)\n",
      "(37, 55, 97, 'Cabernet Sauvignon', 'Betz Family', 'Washington', 'US', 47.7192421, -122.1314011)\n",
      "(38, 60, 97, 'Cabernet Sauvignon', 'Betz Family', 'Washington', 'US', 47.7192421, -122.1314011)\n",
      "(39, 68, 97, 'Cabernet Sauvignon', 'Betz Family', 'Washington', 'US', 47.7192421, -122.1314011)\n",
      "(40, 85, 97, 'Cabernet Sauvignon', 'Black Coyote', 'California', 'US', 38.3197784, -122.2256775)\n",
      "(41, 90, 97, 'Bordeaux-style Red Blend', 'Blackbird Vineyards', 'California', 'US', 38.2994614, -122.2806244)\n",
      "(42, 120, 97, 'Malbec', 'Bodega Catena Zapata', 'Mendoza Province', 'Argentina', -33.166687, -68.9024734)\n",
      "(43, 88, 97, 'Monastrell', 'Bodegas Gutiérrez de la Vega', 'Levante', 'Spain', 39.6823997, 2.7168)\n",
      "(44, 250, 97, 'Tempranillo', 'Bodegas Roda', 'Northern Spain', 'Spain', 42.5858574, -2.843271)\n",
      "(45, 260, 97, 'Champagne Blend', 'Bollinger', 'Champagne', 'France', 49.078186, 3.9650023)\n",
      "(46, 275, 97, 'Bordeaux-style Red Blend', 'BOND', 'California', 'US', 38.5109749, -122.4000244)\n",
      "(47, 55, 97, 'Red Blend', 'Buty', 'Washington', 'US', 46.0878029, -118.2698059)\n",
      "(48, 85, 97, 'Muscat', 'Campbells', 'Victoria', 'Australia', -36.0608864, 146.4359131)\n",
      "(49, 97, 97, 'Muscat', 'Campbells', 'Victoria', 'Australia', -36.0608864, 146.4359131)\n",
      "(50, 85, 97, 'Tokay', 'Campbells', 'Victoria', 'Australia', -36.0608864, 146.4359131)\n",
      "(51, 55, 97, 'Sangiovese Grosso', 'Capanna', 'Tuscany', 'Italy', 43.9834938, 11.3368711)\n",
      "(52, 250, 97, 'Cabernet Sauvignon', 'Cardinale', 'California', 'US', 38.9218979, -119.2958679)\n",
      "(53, 79, 97, 'Sangiovese Grosso', 'Casanova di Neri', 'Tuscany', 'Italy', 43.0579872, 11.5263891)\n",
      "(54, 80, 97, 'Sangiovese Grosso', 'Casanova di Neri', 'Tuscany', 'Italy', 43.0579872, 11.5263891)\n",
      "(55, 180, 97, 'Merlot', 'Castello di Ama', 'Tuscany', 'Italy', 43.4422722, 11.3882227)\n",
      "(56, 130, 97, 'Cabernet Sauvignon', 'Caymus', 'California', 'US', 38.4703979, -122.3943481)\n",
      "(57, 136, 97, 'Cabernet Sauvignon', 'Caymus', 'California', 'US', 38.4703979, -122.3943481)\n",
      "(58, 80, 97, 'Cabernet Sauvignon', 'Cayuse', 'Oregon', 'US', 45.9622955, -118.4233246)\n",
      "(59, 70, 97, 'Syrah', 'Cayuse', 'Oregon', 'US', 45.9622955, -118.4233246)\n",
      "(60, 85, 97, 'Syrah', 'Cayuse', 'Oregon', 'US', 45.9622955, -118.4233246)\n",
      "(61, 145, 97, 'Bordeaux-style Red Blend', \"ChÃƒÂ¢teau Cos d'Estournel\", 'Bordeaux', 'France', 45.2314987, -0.7727)\n",
      "(62, 90, 97, 'Bordeaux-style Red Blend', 'ChÃƒÂ¢teau Figeac', 'Bordeaux', 'France', 44.9135017, -0.1903)\n",
      "(63, 330, 97, 'Bordeaux-style Red Blend', 'ChÃƒÂ¢teau Haut-Brion', 'Bordeaux', 'France', 44.8116989, -0.5964)\n",
      "(64, 1100, 97, 'Bordeaux-style Red Blend', 'ChÃƒÂ¢teau La Mission Haut-Brion', 'Bordeaux', 'France', 44.8168983, -0.6057)\n",
      "(65, 698, 97, 'Bordeaux-style White Blend', 'ChÃƒÂ¢teau La Mission Haut-Brion', 'Bordeaux', 'France', 44.8168983, -0.6057)\n",
      "(66, 150, 97, 'Bordeaux-style Red Blend', 'ChÃƒÂ¢teau LÃƒÂ©oville Las Cases', 'Bordeaux', 'France', 45.1646996, -0.7378)\n",
      "(67, 190, 97, 'Bordeaux-style Red Blend', 'ChÃƒÂ¢teau LÃƒÂ©oville Las Cases', 'Bordeaux', 'France', 45.1646996, -0.7378)\n",
      "(68, 345, 97, 'Bordeaux-style Red Blend', 'ChÃƒÂ¢teau Lafite Rothschild', 'Bordeaux', 'France', 45.2257996, -0.7716)\n",
      "(69, 660, 97, 'Bordeaux-style Red Blend', 'ChÃƒÂ¢teau Latour', 'Bordeaux', 'France', 42.7677994, 2.6601)\n",
      "(70, 300, 97, 'Bordeaux-style Red Blend', 'ChÃƒÂ¢teau Margaux', 'Bordeaux', 'France', 45.0460014, -0.6634)\n",
      "(71, 450, 97, 'Bordeaux-style Red Blend', 'ChÃƒÂ¢teau Margaux', 'Bordeaux', 'France', 45.0460014, -0.6634)\n",
      "(72, 90, 97, 'Bordeaux-style White Blend', 'ChÃƒÂ¢teau Suduiraut', 'Bordeaux', 'France', 44.5569, -0.3174)\n",
      "(73, 170, 97, 'Bordeaux-style Red Blend', 'ChÃƒÂ¢teau Troplong Mondot', 'Bordeaux', 'France', 44.8900986, -0.1394)\n",
      "(74, 300, 97, 'Muscadel', 'Chambers Rosewood Vineyards', 'Victoria', 'Australia', -36.0439529, 146.4518433)\n",
      "(75, 120, 97, 'Syrah', 'Charles Smith', 'Washington', 'US', 47.6927071, -121.8895569)\n",
      "(76, 85, 97, 'Pinot Noir', 'Cobb', 'California', 'US', 38.3978271, -122.9956284)\n",
      "(77, 140, 97, 'Bordeaux-style Red Blend', 'Continuum', 'California', 'US', 38.4837189, -122.3516998)\n",
      "(78, 175, 97, 'Cabernet Sauvignon', 'Diamond Creek', 'California', 'US', 38.5656471, -122.5717239)\n",
      "(79, 281, 97, 'Pinot Noir', 'Domaine Bruno Clair', 'Burgundy', 'France', 47.272686, 4.9923983)\n",
      "(80, 100, 97, 'Bordeaux-style White Blend', 'Domaine de Chevalier', 'Bordeaux', 'France', 44.7205124, -0.629558)\n",
      "(81, 96, 97, 'Syrah', 'Domaine Jamet', 'RhÃƒÂ´ne Valley', 'France', 45.5165405, 4.7950325)\n",
      "(82, 410, 97, 'Chardonnay', 'Domaine Leflaive', 'Burgundy', 'France', 46.3824387, 4.8005862)\n",
      "(83, 430, 97, 'Chardonnay', 'Domaine Leflaive', 'Burgundy', 'France', 46.3824387, 4.8005862)\n",
      "(84, 451, 97, 'Chardonnay', 'Domaine Leflaive', 'Burgundy', 'France', 46.3824387, 4.8005862)\n",
      "(85, 550, 97, 'Chardonnay', 'Domaine Leflaive', 'Burgundy', 'France', 46.3824387, 4.8005862)\n",
      "(86, 574, 97, 'Chardonnay', 'Domaine Leflaive', 'Burgundy', 'France', 46.3824387, 4.8005862)\n",
      "(87, 269, 97, 'Pinot Gris', 'Domaine Zind-Humbrecht', 'Alsace', 'France', 48.0843163, 7.2971892)\n",
      "(88, 250, 97, 'Riesling', 'Dr. Pauly Bergweiler', 'Mosel-Saar-Ruwer', 'Germany', 49.9153786, 7.0761142)\n",
      "(89, 50, 97, 'Chardonnay', 'Dutton-Goldfield', 'California', 'US', 38.4379616, -122.8546829)\n",
      "(90, 150, 97, 'Tinto Fino', 'Emilio Moro', 'Northern Spain', 'Spain', 41.6435814, -4.1481662)\n",
      "(91, 180, 97, 'Tinto Fino', 'Emilio Moro', 'Northern Spain', 'Spain', 41.6435814, -4.1481662)\n",
      "(92, 42, 97, 'Chardonnay', 'Failla', 'California', 'US', 38.5490227, -122.4887085)\n",
      "(93, 60, 97, 'Pinot Noir', 'Failla', 'California', 'US', 38.5490227, -122.4887085)\n",
      "(94, 70, 97, 'Pinot Noir', 'Failla', 'California', 'US', 38.5490227, -122.4887085)\n",
      "(95, 100, 97, 'Merlot', 'Fattoria Petrolo', 'Tuscany', 'Italy', 43.4714775, 11.5725527)\n",
      "(96, 70, 97, 'Chardonnay', 'Flowers', 'California', 'US', 38.5649529, -122.8705597)\n",
      "(97, 210, 97, 'Nebbiolo', 'Gaja', 'Piedmont', 'Italy', 44.7261276, 8.0810137)\n",
      "(98, 215, 97, 'Nebbiolo', 'Gaja', 'Piedmont', 'Italy', 44.7261276, 8.0810137)\n",
      "(99, 190, 97, 'Cabernet Sauvignon', 'Gandona', 'California', 'US', 38.4836578, -122.3542252)\n",
      "(100, 245, 97, 'Riesling', 'Geh. Rat Dr. von Bassermann-Jordan', 'Pfalz', 'Germany', 49.4086571, 8.1873112)\n",
      "(101, 75, 97, 'Pinot Noir', 'Goldeneye', 'California', 'US', 39.0583038, -123.430191)\n",
      "(102, 85, 97, 'Cabernet Sauvignon', 'Goldschmidt', 'California', 'US', 38.673996, -122.9228973)\n",
      "(103, 150, 97, 'Bordeaux-style Red Blend', 'Harlan Estate', 'California', 'US', 38.4212112, -122.3987045)\n",
      "(104, 185, 97, 'Champagne Blend', 'Henriot', 'Champagne', 'France', 52.9045906, 37.7927742)\n",
      "(105, 100, 97, 'Cabernet Sauvignon', 'Hestan', 'California', 'US', 38.4036217, -122.3606949)\n",
      "(106, 189, 97, 'Sparkling Blend', 'Iron Horse', 'California', 'US', 38.4569244, -122.8974152)\n",
      "(107, 135, 97, 'Cabernet Sauvignon', 'Janzen', 'California', 'US', 38.4666176, -122.4241562)\n",
      "(108, 130, 97, 'Cabernet Sauvignon', 'Jarvis', 'California', 'US', 38.3555679, -122.2143402)\n",
      "(109, 150, 97, 'Cabernet Sauvignon', 'JCB', 'California', 'US', 38.4053726, -122.3443222)\n",
      "(110, 639, 97, 'Pinot Noir', 'Joseph Drouhin', 'Burgundy', 'France', 47.0260963, 4.846734)\n",
      "(111, 200, 97, 'Bordeaux-style Red Blend', 'Joseph Phelps', 'California', 'US', 38.5033112, -122.4249802)\n",
      "(112, 200, 97, 'Bordeaux-style Red Blend', 'Joseph Phelps', 'California', 'US', 38.5033112, -122.4249802)\n",
      "(113, 225, 97, 'Cabernet Sauvignon', 'Joseph Phelps', 'California', 'US', 38.5033112, -122.4249802)\n",
      "(114, 52, 97, 'Pinot Noir', 'Joseph Swan Vineyards', 'California', 'US', 38.4838791, -122.8469162)\n",
      "(115, 70, 97, 'Syrah', 'K Vintners', 'Washington', 'US', 46.08601, -118.2496262)\n",
      "(116, 65, 97, 'Pinot Noir', 'Ken Wright', 'Oregon', 'US', 45.2950897, -123.1745682)\n",
      "(117, 125, 97, 'Bordeaux-style Red Blend', 'Kendall-Jackson', 'California', 'US', 38.5073433, -122.7699738)\n",
      "(118, 90, 97, 'Chardonnay', 'Kracher', 'Burgenland', 'Austria', 47.7453842, 16.8294449)\n",
      "(119, 111, 97, 'Chardonnay', 'Kracher', 'Burgenland', 'Austria', 47.7453842, 16.8294449)\n",
      "(120, 125, 97, 'Scheurebe', 'Kracher', 'Burgenland', 'Austria', 47.7453842, 16.8294449)\n",
      "(121, 70, 97, 'Cabernet Sauvignon', 'Krutz', 'California', 'US', 38.4721222, -122.7396851)\n",
      "(122, 65, 97, 'Cabernet Sauvignon', 'Lancaster', 'California', 'US', 38.6262512, -122.7717743)\n",
      "(123, 130, 97, 'Cabernet Franc', 'Le Macchiole', 'Tuscany', 'Italy', 43.2083092, 10.6138506)\n",
      "(124, 315, 97, 'Merlot', 'Le Macchiole', 'Tuscany', 'Italy', 43.2083092, 10.6138506)\n",
      "(125, 160, 97, 'Syrah', 'Le Macchiole', 'Tuscany', 'Italy', 43.2083092, 10.6138506)\n",
      "(126, 110, 97, 'Cabernet Blend', 'Leonetti Cellar', 'Washington', 'US', 46.0568161, -118.292778)\n",
      "(127, 85, 97, 'Cabernet Sauvignon', 'Leonetti Cellar', 'Washington', 'US', 46.0568161, -118.292778)\n",
      "(128, 88, 97, 'Cabernet Sauvignon', 'Leonetti Cellar', 'Washington', 'US', 46.0568161, -118.292778)\n",
      "(129, 90, 97, 'Picolit', 'Livio Felluga', 'Northeastern Italy', 'Italy', 45.9730644, 13.4601231)\n",
      "(130, 330, 97, 'Chardonnay', 'Louis Jadot', 'Burgundy', 'France', 47.0381355, 4.8438544)\n",
      "(131, 95, 97, 'Pinot Noir', 'Louis Jadot', 'Burgundy', 'France', 47.0381355, 4.8438544)\n",
      "(132, 260, 97, 'Pinot Noir', 'Louis Jadot', 'Burgundy', 'France', 47.0381355, 4.8438544)\n",
      "(133, 288, 97, 'Pinot Noir', 'Louis Jadot', 'Burgundy', 'France', 47.0381355, 4.8438544)\n",
      "(134, 300, 97, 'Pinot Noir', 'Louis Jadot', 'Burgundy', 'France', 47.0381355, 4.8438544)\n",
      "(135, 468, 97, 'Pinot Noir', 'Louis Jadot', 'Burgundy', 'France', 47.0381355, 4.8438544)\n",
      "(136, 229, 97, 'Champagne Blend', 'Louis Roederer', 'Champagne', 'France', 49.2600708, 4.0362368)\n",
      "(137, 249, 97, 'Champagne Blend', 'Louis Roederer', 'Champagne', 'France', 49.2600708, 4.0362368)\n",
      "(138, 93, 97, 'Sangiovese Grosso', 'Luce della Vite', 'Tuscany', 'Italy', 43.039299, 11.4083633)\n",
      "(139, 70, 97, 'Pinot Noir', 'Lynmar', 'California', 'US', 38.4427757, -122.8428955)\n",
      "(140, 100, 97, 'Pinot Noir', 'Lynmar', 'California', 'US', 38.4427757, -122.8428955)\n",
      "(141, 95, 97, 'Red Blend', 'Marchesi Antinori', 'Tuscany', 'Italy', 43.6156273, 11.192462)\n",
      "(142, 102, 97, 'Red Blend', 'Marchesi Antinori', 'Tuscany', 'Italy', 43.6156273, 11.192462)\n",
      "(143, 325, 97, 'Red Blend', 'Marchesi Antinori', 'Tuscany', 'Italy', 43.6156273, 11.192462)\n",
      "(144, 100, 97, 'Sangiovese', \"Marchesi de' Frescobaldi\", 'Tuscany', 'Italy', 43.6717148, 11.0957832)\n",
      "(145, 550, 97, 'Merlot', 'Masseto', 'Tuscany', 'Italy', 43.1602974, 10.6105719)\n",
      "(146, 52, 97, 'Pinot Noir', 'Melville', 'California', 'US', 34.7425995, -120.1597443)\n",
      "(147, 54, 97, 'Pinot Noir', 'Merry Edwards', 'California', 'US', 38.4354858, -122.8538742)\n",
      "(148, 90, 97, 'Cabernet Sauvignon', 'Napa Angel', 'California', 'US', 38.3692894, -122.3240356)\n",
      "(149, 100, 97, 'Red Blend', 'Niebaum-Coppola', 'California', 'US', 38.450325, -122.433197)\n",
      "(150, 80, 97, 'Port', 'Niepoort', 'Portugal', 'Portugal', 41.1490402, -7.6400967)\n",
      "(151, 95, 97, 'Port', 'Niepoort', 'Port', 'Portugal', 41.1490402, -7.6400967)\n",
      "(152, 240, 97, 'Red Blend', 'Ornellaia', 'Tuscany', 'Italy', 43.2142372, 10.6190739)\n",
      "(153, 195, 97, 'Bordeaux-style Red Blend', 'Ovid', 'California', 'US', 38.461525, -122.3403549)\n",
      "(154, 150, 97, 'Cabernet Sauvignon', 'Paul Hobbs', 'California', 'US', 38.4405823, -122.8552094)\n",
      "(155, 225, 97, 'Cabernet Sauvignon', 'Penfolds', 'South Australia', 'Australia', -34.4420776, 139.1054382)\n",
      "(156, 150, 97, 'Shiraz', 'Penfolds', 'South Australia', 'Australia', -34.4420776, 139.1054382)\n",
      "(157, 600, 97, 'Shiraz', 'Penfolds', 'South Australia', 'Australia', -34.4420776, 139.1054382)\n",
      "(158, 275, 97, 'Champagne Blend', 'Pol Roger', 'Champagne', 'France', 49.0406723, 3.9640825)\n",
      "(159, 95, 97, 'Cabernet Sauvignon', 'Quilceda Creek', 'Washington', 'US', 47.949276, -122.0773544)\n",
      "(160, 100, 97, 'Portuguese Red', 'Quinta do Vale MeÃƒÂ£o', 'Douro', 'Portugal', 41.1543999, -7.1178999)\n",
      "(161, 95, 97, 'Syrah', 'QupÃƒÂ©', 'California', 'US', 38.5131989, -122.7886963)\n",
      "(162, 65, 97, 'Chardonnay', 'Ramey', 'California', 'US', 38.6041145, -122.8605042)\n",
      "(163, 65, 97, 'Cabernet Sauvignon', 'Redmon', 'California', 'US', 38.5005913, -122.4550552)\n",
      "(164, 120, 97, 'Red Blend', 'Ridge', 'California', 'US', 37.3511772, -122.017807)\n",
      "(165, 612, 97, 'Riesling', 'Robert Weil', 'Rheingau', 'Germany', 50.0415993, 8.0891199)\n",
      "(166, 60, 97, 'Chardonnay', 'Rochioli', 'California', 'US', 38.5359039, -122.8651505)\n",
      "(167, 350, 97, 'Chardonnay', 'Salon', 'Champagne', 'France', 48.9465981, 4.0186176)\n",
      "(168, 65, 97, 'Tempranillo Blend', 'San Vicente', 'Northern Spain', 'Spain', 42.5641708, -2.7550988)\n",
      "(169, 445, 97, 'Riesling', 'Schloss Johannisberger', 'Rheingau', 'Germany', 50.0005226, 7.9866767)\n",
      "(170, 486, 97, 'Riesling', 'Schloss Johannisberger', 'Rheingau', 'Germany', 50.0005226, 7.9866767)\n",
      "(171, 175, 97, 'Champagne Blend', 'Schramsberg', 'California', 'US', 38.5501862, -122.5344543)\n",
      "(172, 80, 97, 'Pinot Noir', 'Sea Smoke', 'California', 'US', 34.6815948, -120.3731918)\n",
      "(173, 85, 97, 'Pinot Noir', 'Semper', 'California', 'US', 38.5824623, -122.5596237)\n",
      "(174, 50, 97, 'Pinot Noir', 'Sequana', 'California', 'US', 38.4077759, -122.8352203)\n",
      "(175, 190, 97, 'Cabernet Sauvignon', 'Shafer', 'California', 'US', 38.4216919, -122.3247375)\n",
      "(176, 225, 97, 'Cabernet Sauvignon', 'Shafer', 'California', 'US', 38.4216919, -122.3247375)\n",
      "(177, 110, 97, 'Bordeaux-style Red Blend', 'Signorello', 'California', 'US', 38.3712692, -122.2938385)\n",
      "(178, 130, 97, 'Cabernet Sauvignon', 'Spottswoode', 'California', 'US', 38.5005798, -122.4772263)\n",
      "(179, 195, 97, 'Cabernet Sauvignon', \"Stag's Leap Wine Cellars\", 'California', 'US', 38.4147072, -122.3183899)\n",
      "(180, 75, 97, 'Cabernet Sauvignon', 'Stonestreet', 'California', 'US', 38.6632195, -122.8138733)\n",
      "(181, 70, 97, 'Pinot Noir', 'Talley', 'California', 'US', 35.1794586, -120.5214615)\n",
      "(182, 225, 97, 'Port', 'Taylor Fladgate', 'Port', 'Portugal', 41.1344681, -8.6127424)\n",
      "(183, 240, 97, 'Merlot', \"Tenuta dell'Ornellaia\", 'Tuscany', 'Italy', 43.0463524, 11.4991856)\n",
      "(184, 460, 97, 'Merlot', \"Tenuta dell'Ornellaia\", 'Tuscany', 'Italy', 43.0463524, 11.4991856)\n",
      "(185, 200, 97, 'Red Blend', \"Tenuta dell'Ornellaia\", 'Tuscany', 'Italy', 43.0463524, 11.4991856)\n",
      "(186, 200, 97, 'Red Blend', \"Tenuta dell'Ornellaia\", 'Tuscany', 'Italy', 43.0463524, 11.4991856)\n",
      "(187, 215, 97, 'Red Blend', \"Tenuta dell'Ornellaia\", 'Tuscany', 'Italy', 43.0463524, 11.4991856)\n",
      "(188, 240, 97, 'Red Blend', \"Tenuta dell'Ornellaia\", 'Tuscany', 'Italy', 43.0463524, 11.4991856)\n",
      "(189, 190, 97, 'Red Blend', 'Tenuta San Guido', 'Tuscany', 'Italy', 43.2324142, 10.6006355)\n",
      "(190, 220, 97, 'Red Blend', 'Tenuta San Guido', 'Tuscany', 'Italy', 43.2324142, 10.6006355)\n",
      "(191, 227, 97, 'Red Blend', 'Tenuta San Guido', 'Tuscany', 'Italy', 43.2324142, 10.6006355)\n",
      "(192, 227, 97, 'Tinta de Toro', 'Teso La Monja', 'Northern Spain', 'Spain', 41.4556465, -5.4451551)\n",
      "(193, 150, 97, 'Bordeaux-style Red Blend', 'The Maiden', 'California', 'US', 43.2324066, 10.6005392)\n",
      "(194, 105, 97, 'Shiraz', 'Torbreck', 'South Australia', 'Australia', -34.4763184, 138.9526215)\n",
      "(195, 50, 97, 'Cabernet Sauvignon', 'Trefethen', 'California', 'US', 38.3567123, -122.3226471)\n",
      "(196, 350, 97, 'Merlot', 'Tua Rita', 'Tuscany', 'Italy', 43.0642242, 10.6915636)\n",
      "(197, 130, 97, 'Sangiovese', 'Valdicava', 'Tuscany', 'Italy', 43.0769882, 11.4925928)\n",
      "(198, 208, 97, 'Champagne Blend', 'Veuve Clicquot Ponsardin', 'Champagne', 'France', 48.2416458, 5.1187835)\n",
      "(199, 150, 97, 'Tempranillo', 'ViÃƒÂ±edos de Paganos', 'Northern Spain', 'Spain', 42.5579071, -2.6056604)\n",
      "(200, 130, 97, 'Nebbiolo', 'Vietti', 'Piedmont', 'Italy', 44.6245079, 7.9811249)\n",
      "(201, 130, 97, 'Bordeaux-style Red Blend', 'Vieux ChÃƒÂ¢teau Certan', 'Bordeaux', 'France', 44.9271011, -0.1974)\n",
      "(202, 150, 97, 'Cabernet Sauvignon', 'Vine Cliff', 'California', 'US', 38.4479027, -122.3482437)\n",
      "(203, 250, 97, 'Riesling', 'Von Othegraven', 'Mosel-Saar-Ruwer', 'Germany', 49.6710892, 6.5805812)\n",
      "(204, 100, 97, 'Red Blend', 'Von Strasser', 'California', 'US', 38.5878639, -122.5723419)\n",
      "(205, 95, 97, 'Chardonnay', 'William FÃƒÂ¨vre', 'Burgundy', 'France', 47.8136597, 3.8039672)\n",
      "(206, 50, 97, 'Chardonnay', 'Williams Selyem', 'California', 'US', 38.521183, -122.8661575)\n",
      "(207, 59, 97, 'Pinot Noir', 'Williams Selyem', 'California', 'US', 38.521183, -122.8661575)\n",
      "(208, 72, 97, 'Pinot Noir', 'Williams Selyem', 'California', 'US', 38.521183, -122.8661575)\n",
      "(209, 75, 97, 'Pinot Noir', 'Williams Selyem', 'California', 'US', 38.521183, -122.8661575)\n",
      "(210, 78, 97, 'Pinot Noir', 'Williams Selyem', 'California', 'US', 38.521183, -122.8661575)\n",
      "(211, 82, 97, 'Pinot Noir', 'Williams Selyem', 'California', 'US', 38.521183, -122.8661575)\n",
      "(212, 85, 97, 'Pinot Noir', 'Williams Selyem', 'California', 'US', 38.521183, -122.8661575)\n",
      "(213, 95, 97, 'Pinot Noir', 'Williams Selyem', 'California', 'US', 38.521183, -122.8661575)\n",
      "(214, 125, 97, 'Pinot Noir', 'Williams Selyem', 'California', 'US', 38.521183, -122.8661575)\n",
      "(215, 625, 97, 'Cabernet Sauvignon', 'Yao Ming', 'California', 'US', 38.2884445, -122.2894211)\n"
     ]
    }
   ],
   "source": [
    "cursor.execute(\"SELECT * FROM wine\")\n",
    "result = cursor.fetchall()\n",
    "\n",
    "for x in result: \n",
    "    print(x)"
   ]
  },
  {
   "cell_type": "code",
   "execution_count": null,
   "metadata": {},
   "outputs": [],
   "source": [
    "#final dataframe information "
   ]
  },
  {
   "cell_type": "code",
   "execution_count": 48,
   "metadata": {},
   "outputs": [
    {
     "data": {
      "text/html": [
       "<div>\n",
       "<style scoped>\n",
       "    .dataframe tbody tr th:only-of-type {\n",
       "        vertical-align: middle;\n",
       "    }\n",
       "\n",
       "    .dataframe tbody tr th {\n",
       "        vertical-align: top;\n",
       "    }\n",
       "\n",
       "    .dataframe thead th {\n",
       "        text-align: right;\n",
       "    }\n",
       "</style>\n",
       "<table border=\"1\" class=\"dataframe\">\n",
       "  <thead>\n",
       "    <tr style=\"text-align: right;\">\n",
       "      <th></th>\n",
       "      <th>price</th>\n",
       "      <th>points</th>\n",
       "      <th>variety</th>\n",
       "      <th>winery</th>\n",
       "      <th>province</th>\n",
       "      <th>country</th>\n",
       "      <th>lat</th>\n",
       "      <th>lng</th>\n",
       "    </tr>\n",
       "  </thead>\n",
       "  <tbody>\n",
       "    <tr>\n",
       "      <th>0</th>\n",
       "      <td>85</td>\n",
       "      <td>97</td>\n",
       "      <td>Cabernet Sauvignon</td>\n",
       "      <td>Abeja</td>\n",
       "      <td>Washington</td>\n",
       "      <td>US</td>\n",
       "      <td>46.087349</td>\n",
       "      <td>-118.225523</td>\n",
       "    </tr>\n",
       "  </tbody>\n",
       "</table>\n",
       "</div>"
      ],
      "text/plain": [
       "   price  points             variety winery    province country        lat  \\\n",
       "0     85      97  Cabernet Sauvignon  Abeja  Washington      US  46.087349   \n",
       "\n",
       "          lng  \n",
       "0 -118.225523  "
      ]
     },
     "execution_count": 48,
     "metadata": {},
     "output_type": "execute_result"
    }
   ],
   "source": [
    "final_df[:1]"
   ]
  },
  {
   "cell_type": "code",
   "execution_count": 20,
   "metadata": {},
   "outputs": [
    {
     "data": {
      "text/plain": [
       "187"
      ]
     },
     "execution_count": 20,
     "metadata": {},
     "output_type": "execute_result"
    }
   ],
   "source": [
    "len(final_df)"
   ]
  },
  {
   "cell_type": "code",
   "execution_count": 71,
   "metadata": {},
   "outputs": [
    {
     "data": {
      "text/plain": [
       "187"
      ]
     },
     "execution_count": 71,
     "metadata": {},
     "output_type": "execute_result"
    }
   ],
   "source": [
    "len(final_df)"
   ]
  },
  {
   "cell_type": "code",
   "execution_count": 72,
   "metadata": {},
   "outputs": [
    {
     "data": {
      "text/plain": [
       "(187, 8)"
      ]
     },
     "execution_count": 72,
     "metadata": {},
     "output_type": "execute_result"
    }
   ],
   "source": [
    "final_df.shape"
   ]
  },
  {
   "cell_type": "code",
   "execution_count": 74,
   "metadata": {},
   "outputs": [
    {
     "data": {
      "text/plain": [
       "97.0"
      ]
     },
     "execution_count": 74,
     "metadata": {},
     "output_type": "execute_result"
    }
   ],
   "source": [
    "final_df['points'].mean()"
   ]
  },
  {
   "cell_type": "code",
   "execution_count": 75,
   "metadata": {},
   "outputs": [
    {
     "data": {
      "text/plain": [
       "42"
      ]
     },
     "execution_count": 75,
     "metadata": {},
     "output_type": "execute_result"
    }
   ],
   "source": [
    "final_df['price'].min()"
   ]
  },
  {
   "cell_type": "code",
   "execution_count": 76,
   "metadata": {},
   "outputs": [
    {
     "data": {
      "text/plain": [
       "1100"
      ]
     },
     "execution_count": 76,
     "metadata": {},
     "output_type": "execute_result"
    }
   ],
   "source": [
    "final_df['price'].max()"
   ]
  },
  {
   "cell_type": "code",
   "execution_count": 77,
   "metadata": {},
   "outputs": [
    {
     "data": {
      "text/plain": [
       "184.70053475935828"
      ]
     },
     "execution_count": 77,
     "metadata": {},
     "output_type": "execute_result"
    }
   ],
   "source": [
    "final_df['price'].mean()"
   ]
  },
  {
   "cell_type": "code",
   "execution_count": null,
   "metadata": {},
   "outputs": [],
   "source": []
  },
  {
   "cell_type": "code",
   "execution_count": null,
   "metadata": {},
   "outputs": [],
   "source": [
    "#getting the unique wineries of the cleaned 97 point wine "
   ]
  },
  {
   "cell_type": "code",
   "execution_count": 63,
   "metadata": {},
   "outputs": [],
   "source": [
    "final_df = pd.read_excel('final_cleaned_wine.xlsx')"
   ]
  },
  {
   "cell_type": "code",
   "execution_count": 64,
   "metadata": {},
   "outputs": [
    {
     "data": {
      "text/html": [
       "<div>\n",
       "<style scoped>\n",
       "    .dataframe tbody tr th:only-of-type {\n",
       "        vertical-align: middle;\n",
       "    }\n",
       "\n",
       "    .dataframe tbody tr th {\n",
       "        vertical-align: top;\n",
       "    }\n",
       "\n",
       "    .dataframe thead th {\n",
       "        text-align: right;\n",
       "    }\n",
       "</style>\n",
       "<table border=\"1\" class=\"dataframe\">\n",
       "  <thead>\n",
       "    <tr style=\"text-align: right;\">\n",
       "      <th></th>\n",
       "      <th>price</th>\n",
       "      <th>points</th>\n",
       "      <th>variety</th>\n",
       "      <th>winery</th>\n",
       "      <th>province</th>\n",
       "      <th>country</th>\n",
       "      <th>lat</th>\n",
       "      <th>lng</th>\n",
       "    </tr>\n",
       "  </thead>\n",
       "  <tbody>\n",
       "    <tr>\n",
       "      <th>0</th>\n",
       "      <td>85</td>\n",
       "      <td>97</td>\n",
       "      <td>Cabernet Sauvignon</td>\n",
       "      <td>Abeja</td>\n",
       "      <td>Washington</td>\n",
       "      <td>US</td>\n",
       "      <td>46.087349</td>\n",
       "      <td>-118.225523</td>\n",
       "    </tr>\n",
       "    <tr>\n",
       "      <th>1</th>\n",
       "      <td>130</td>\n",
       "      <td>97</td>\n",
       "      <td>Cabernet Sauvignon</td>\n",
       "      <td>Alpha Omega</td>\n",
       "      <td>California</td>\n",
       "      <td>US</td>\n",
       "      <td>38.470709</td>\n",
       "      <td>-122.428425</td>\n",
       "    </tr>\n",
       "    <tr>\n",
       "      <th>2</th>\n",
       "      <td>125</td>\n",
       "      <td>97</td>\n",
       "      <td>Sangiovese</td>\n",
       "      <td>Altesino</td>\n",
       "      <td>Tuscany</td>\n",
       "      <td>Italy</td>\n",
       "      <td>43.102726</td>\n",
       "      <td>11.491383</td>\n",
       "    </tr>\n",
       "    <tr>\n",
       "      <th>3</th>\n",
       "      <td>115</td>\n",
       "      <td>97</td>\n",
       "      <td>Red Blend</td>\n",
       "      <td>Antinori</td>\n",
       "      <td>Tuscany</td>\n",
       "      <td>Italy</td>\n",
       "      <td>43.612757</td>\n",
       "      <td>11.191307</td>\n",
       "    </tr>\n",
       "    <tr>\n",
       "      <th>4</th>\n",
       "      <td>90</td>\n",
       "      <td>97</td>\n",
       "      <td>Pinot Noir</td>\n",
       "      <td>Arista</td>\n",
       "      <td>California</td>\n",
       "      <td>US</td>\n",
       "      <td>38.524215</td>\n",
       "      <td>-122.867989</td>\n",
       "    </tr>\n",
       "  </tbody>\n",
       "</table>\n",
       "</div>"
      ],
      "text/plain": [
       "   price  points             variety       winery    province country  \\\n",
       "0     85      97  Cabernet Sauvignon        Abeja  Washington      US   \n",
       "1    130      97  Cabernet Sauvignon  Alpha Omega  California      US   \n",
       "2    125      97          Sangiovese     Altesino     Tuscany   Italy   \n",
       "3    115      97           Red Blend     Antinori     Tuscany   Italy   \n",
       "4     90      97          Pinot Noir       Arista  California      US   \n",
       "\n",
       "         lat         lng  \n",
       "0  46.087349 -118.225523  \n",
       "1  38.470709 -122.428425  \n",
       "2  43.102726   11.491383  \n",
       "3  43.612757   11.191307  \n",
       "4  38.524215 -122.867989  "
      ]
     },
     "execution_count": 64,
     "metadata": {},
     "output_type": "execute_result"
    }
   ],
   "source": [
    "final_df.head()"
   ]
  },
  {
   "cell_type": "code",
   "execution_count": 54,
   "metadata": {},
   "outputs": [],
   "source": [
    "cleaned_df = pd.read_csv('cleaned_data.csv')"
   ]
  },
  {
   "cell_type": "code",
   "execution_count": 55,
   "metadata": {},
   "outputs": [
    {
     "data": {
      "text/html": [
       "<div>\n",
       "<style scoped>\n",
       "    .dataframe tbody tr th:only-of-type {\n",
       "        vertical-align: middle;\n",
       "    }\n",
       "\n",
       "    .dataframe tbody tr th {\n",
       "        vertical-align: top;\n",
       "    }\n",
       "\n",
       "    .dataframe thead th {\n",
       "        text-align: right;\n",
       "    }\n",
       "</style>\n",
       "<table border=\"1\" class=\"dataframe\">\n",
       "  <thead>\n",
       "    <tr style=\"text-align: right;\">\n",
       "      <th></th>\n",
       "      <th>Unnamed: 0</th>\n",
       "      <th>price</th>\n",
       "      <th>points</th>\n",
       "      <th>variety</th>\n",
       "      <th>winery</th>\n",
       "      <th>province</th>\n",
       "      <th>country</th>\n",
       "      <th>lat</th>\n",
       "      <th>lng</th>\n",
       "    </tr>\n",
       "  </thead>\n",
       "  <tbody>\n",
       "    <tr>\n",
       "      <th>0</th>\n",
       "      <td>0</td>\n",
       "      <td>85</td>\n",
       "      <td>97</td>\n",
       "      <td>Cabernet Sauvignon</td>\n",
       "      <td>Abeja</td>\n",
       "      <td>Washington</td>\n",
       "      <td>US</td>\n",
       "      <td>NaN</td>\n",
       "      <td>NaN</td>\n",
       "    </tr>\n",
       "    <tr>\n",
       "      <th>1</th>\n",
       "      <td>1</td>\n",
       "      <td>130</td>\n",
       "      <td>97</td>\n",
       "      <td>Cabernet Sauvignon</td>\n",
       "      <td>Alpha Omega</td>\n",
       "      <td>California</td>\n",
       "      <td>US</td>\n",
       "      <td>NaN</td>\n",
       "      <td>NaN</td>\n",
       "    </tr>\n",
       "    <tr>\n",
       "      <th>2</th>\n",
       "      <td>2</td>\n",
       "      <td>125</td>\n",
       "      <td>97</td>\n",
       "      <td>Sangiovese</td>\n",
       "      <td>Altesino</td>\n",
       "      <td>Tuscany</td>\n",
       "      <td>Italy</td>\n",
       "      <td>NaN</td>\n",
       "      <td>NaN</td>\n",
       "    </tr>\n",
       "    <tr>\n",
       "      <th>3</th>\n",
       "      <td>3</td>\n",
       "      <td>115</td>\n",
       "      <td>97</td>\n",
       "      <td>Red Blend</td>\n",
       "      <td>Antinori</td>\n",
       "      <td>Tuscany</td>\n",
       "      <td>Italy</td>\n",
       "      <td>NaN</td>\n",
       "      <td>NaN</td>\n",
       "    </tr>\n",
       "    <tr>\n",
       "      <th>4</th>\n",
       "      <td>4</td>\n",
       "      <td>90</td>\n",
       "      <td>97</td>\n",
       "      <td>Pinot Noir</td>\n",
       "      <td>Arista</td>\n",
       "      <td>California</td>\n",
       "      <td>US</td>\n",
       "      <td>NaN</td>\n",
       "      <td>NaN</td>\n",
       "    </tr>\n",
       "  </tbody>\n",
       "</table>\n",
       "</div>"
      ],
      "text/plain": [
       "   Unnamed: 0  price  points             variety       winery    province  \\\n",
       "0           0     85      97  Cabernet Sauvignon        Abeja  Washington   \n",
       "1           1    130      97  Cabernet Sauvignon  Alpha Omega  California   \n",
       "2           2    125      97          Sangiovese     Altesino     Tuscany   \n",
       "3           3    115      97           Red Blend     Antinori     Tuscany   \n",
       "4           4     90      97          Pinot Noir       Arista  California   \n",
       "\n",
       "  country  lat  lng  \n",
       "0      US  NaN  NaN  \n",
       "1      US  NaN  NaN  \n",
       "2   Italy  NaN  NaN  \n",
       "3   Italy  NaN  NaN  \n",
       "4      US  NaN  NaN  "
      ]
     },
     "execution_count": 55,
     "metadata": {},
     "output_type": "execute_result"
    }
   ],
   "source": [
    "cleaned_df.head()"
   ]
  },
  {
   "cell_type": "code",
   "execution_count": 56,
   "metadata": {},
   "outputs": [
    {
     "data": {
      "text/plain": [
       "131"
      ]
     },
     "execution_count": 56,
     "metadata": {},
     "output_type": "execute_result"
    }
   ],
   "source": [
    "cleaned_df['winery'].nunique()"
   ]
  },
  {
   "cell_type": "code",
   "execution_count": 59,
   "metadata": {},
   "outputs": [],
   "source": [
    "new_df = cleaned_df[['winery','province','country']]"
   ]
  },
  {
   "cell_type": "code",
   "execution_count": 60,
   "metadata": {},
   "outputs": [
    {
     "data": {
      "text/html": [
       "<div>\n",
       "<style scoped>\n",
       "    .dataframe tbody tr th:only-of-type {\n",
       "        vertical-align: middle;\n",
       "    }\n",
       "\n",
       "    .dataframe tbody tr th {\n",
       "        vertical-align: top;\n",
       "    }\n",
       "\n",
       "    .dataframe thead th {\n",
       "        text-align: right;\n",
       "    }\n",
       "</style>\n",
       "<table border=\"1\" class=\"dataframe\">\n",
       "  <thead>\n",
       "    <tr style=\"text-align: right;\">\n",
       "      <th></th>\n",
       "      <th>winery</th>\n",
       "      <th>province</th>\n",
       "      <th>country</th>\n",
       "    </tr>\n",
       "  </thead>\n",
       "  <tbody>\n",
       "    <tr>\n",
       "      <th>0</th>\n",
       "      <td>Abeja</td>\n",
       "      <td>Washington</td>\n",
       "      <td>US</td>\n",
       "    </tr>\n",
       "    <tr>\n",
       "      <th>1</th>\n",
       "      <td>Alpha Omega</td>\n",
       "      <td>California</td>\n",
       "      <td>US</td>\n",
       "    </tr>\n",
       "    <tr>\n",
       "      <th>2</th>\n",
       "      <td>Altesino</td>\n",
       "      <td>Tuscany</td>\n",
       "      <td>Italy</td>\n",
       "    </tr>\n",
       "    <tr>\n",
       "      <th>3</th>\n",
       "      <td>Antinori</td>\n",
       "      <td>Tuscany</td>\n",
       "      <td>Italy</td>\n",
       "    </tr>\n",
       "    <tr>\n",
       "      <th>4</th>\n",
       "      <td>Arista</td>\n",
       "      <td>California</td>\n",
       "      <td>US</td>\n",
       "    </tr>\n",
       "  </tbody>\n",
       "</table>\n",
       "</div>"
      ],
      "text/plain": [
       "        winery    province country\n",
       "0        Abeja  Washington      US\n",
       "1  Alpha Omega  California      US\n",
       "2     Altesino     Tuscany   Italy\n",
       "3     Antinori     Tuscany   Italy\n",
       "4       Arista  California      US"
      ]
     },
     "execution_count": 60,
     "metadata": {},
     "output_type": "execute_result"
    }
   ],
   "source": [
    "new_df.head()"
   ]
  },
  {
   "cell_type": "code",
   "execution_count": 61,
   "metadata": {},
   "outputs": [],
   "source": [
    "new_df = new_df.drop_duplicates()"
   ]
  },
  {
   "cell_type": "code",
   "execution_count": 62,
   "metadata": {},
   "outputs": [
    {
     "data": {
      "text/html": [
       "<div>\n",
       "<style scoped>\n",
       "    .dataframe tbody tr th:only-of-type {\n",
       "        vertical-align: middle;\n",
       "    }\n",
       "\n",
       "    .dataframe tbody tr th {\n",
       "        vertical-align: top;\n",
       "    }\n",
       "\n",
       "    .dataframe thead th {\n",
       "        text-align: right;\n",
       "    }\n",
       "</style>\n",
       "<table border=\"1\" class=\"dataframe\">\n",
       "  <thead>\n",
       "    <tr style=\"text-align: right;\">\n",
       "      <th></th>\n",
       "      <th>winery</th>\n",
       "      <th>province</th>\n",
       "      <th>country</th>\n",
       "    </tr>\n",
       "  </thead>\n",
       "  <tbody>\n",
       "    <tr>\n",
       "      <th>0</th>\n",
       "      <td>Abeja</td>\n",
       "      <td>Washington</td>\n",
       "      <td>US</td>\n",
       "    </tr>\n",
       "    <tr>\n",
       "      <th>1</th>\n",
       "      <td>Alpha Omega</td>\n",
       "      <td>California</td>\n",
       "      <td>US</td>\n",
       "    </tr>\n",
       "    <tr>\n",
       "      <th>2</th>\n",
       "      <td>Altesino</td>\n",
       "      <td>Tuscany</td>\n",
       "      <td>Italy</td>\n",
       "    </tr>\n",
       "    <tr>\n",
       "      <th>3</th>\n",
       "      <td>Antinori</td>\n",
       "      <td>Tuscany</td>\n",
       "      <td>Italy</td>\n",
       "    </tr>\n",
       "    <tr>\n",
       "      <th>4</th>\n",
       "      <td>Arista</td>\n",
       "      <td>California</td>\n",
       "      <td>US</td>\n",
       "    </tr>\n",
       "  </tbody>\n",
       "</table>\n",
       "</div>"
      ],
      "text/plain": [
       "        winery    province country\n",
       "0        Abeja  Washington      US\n",
       "1  Alpha Omega  California      US\n",
       "2     Altesino     Tuscany   Italy\n",
       "3     Antinori     Tuscany   Italy\n",
       "4       Arista  California      US"
      ]
     },
     "execution_count": 62,
     "metadata": {},
     "output_type": "execute_result"
    }
   ],
   "source": [
    "new_df.head()"
   ]
  },
  {
   "cell_type": "code",
   "execution_count": 63,
   "metadata": {},
   "outputs": [
    {
     "data": {
      "text/plain": [
       "132"
      ]
     },
     "execution_count": 63,
     "metadata": {},
     "output_type": "execute_result"
    }
   ],
   "source": [
    "len(new_df)"
   ]
  },
  {
   "cell_type": "code",
   "execution_count": 64,
   "metadata": {},
   "outputs": [],
   "source": [
    "new_df.to_csv('unique_wineries.csv')"
   ]
  },
  {
   "cell_type": "code",
   "execution_count": null,
   "metadata": {},
   "outputs": [],
   "source": []
  },
  {
   "cell_type": "code",
   "execution_count": null,
   "metadata": {},
   "outputs": [],
   "source": [
    "#reading in lat and lon and adding to the cleaned dataframe "
   ]
  },
  {
   "cell_type": "code",
   "execution_count": 73,
   "metadata": {},
   "outputs": [],
   "source": [
    "df1 = pd.read_excel(\"wineries_lat_lon.xlsx\")"
   ]
  },
  {
   "cell_type": "code",
   "execution_count": 74,
   "metadata": {},
   "outputs": [
    {
     "data": {
      "text/html": [
       "<div>\n",
       "<style scoped>\n",
       "    .dataframe tbody tr th:only-of-type {\n",
       "        vertical-align: middle;\n",
       "    }\n",
       "\n",
       "    .dataframe tbody tr th {\n",
       "        vertical-align: top;\n",
       "    }\n",
       "\n",
       "    .dataframe thead th {\n",
       "        text-align: right;\n",
       "    }\n",
       "</style>\n",
       "<table border=\"1\" class=\"dataframe\">\n",
       "  <thead>\n",
       "    <tr style=\"text-align: right;\">\n",
       "      <th></th>\n",
       "      <th>winery</th>\n",
       "      <th>province</th>\n",
       "      <th>country</th>\n",
       "      <th>lat</th>\n",
       "      <th>lng</th>\n",
       "    </tr>\n",
       "  </thead>\n",
       "  <tbody>\n",
       "    <tr>\n",
       "      <th>0</th>\n",
       "      <td>Abeja</td>\n",
       "      <td>Washington</td>\n",
       "      <td>US</td>\n",
       "      <td>46.087349</td>\n",
       "      <td>-118.225523</td>\n",
       "    </tr>\n",
       "    <tr>\n",
       "      <th>1</th>\n",
       "      <td>Alpha Omega</td>\n",
       "      <td>California</td>\n",
       "      <td>US</td>\n",
       "      <td>38.470709</td>\n",
       "      <td>-122.428425</td>\n",
       "    </tr>\n",
       "    <tr>\n",
       "      <th>2</th>\n",
       "      <td>Altesino</td>\n",
       "      <td>Tuscany</td>\n",
       "      <td>Italy</td>\n",
       "      <td>43.102726</td>\n",
       "      <td>11.491383</td>\n",
       "    </tr>\n",
       "    <tr>\n",
       "      <th>3</th>\n",
       "      <td>Antinori</td>\n",
       "      <td>Tuscany</td>\n",
       "      <td>Italy</td>\n",
       "      <td>43.612757</td>\n",
       "      <td>11.191307</td>\n",
       "    </tr>\n",
       "    <tr>\n",
       "      <th>4</th>\n",
       "      <td>Arista</td>\n",
       "      <td>California</td>\n",
       "      <td>US</td>\n",
       "      <td>38.524215</td>\n",
       "      <td>-122.867989</td>\n",
       "    </tr>\n",
       "  </tbody>\n",
       "</table>\n",
       "</div>"
      ],
      "text/plain": [
       "        winery    province country        lat        lng \n",
       "0        Abeja  Washington      US  46.087349 -118.225523\n",
       "1  Alpha Omega  California      US  38.470709 -122.428425\n",
       "2     Altesino     Tuscany   Italy  43.102726   11.491383\n",
       "3     Antinori     Tuscany   Italy  43.612757   11.191307\n",
       "4       Arista  California      US  38.524215 -122.867989"
      ]
     },
     "execution_count": 74,
     "metadata": {},
     "output_type": "execute_result"
    }
   ],
   "source": [
    "df1.head()"
   ]
  },
  {
   "cell_type": "code",
   "execution_count": 76,
   "metadata": {},
   "outputs": [
    {
     "data": {
      "text/html": [
       "<div>\n",
       "<style scoped>\n",
       "    .dataframe tbody tr th:only-of-type {\n",
       "        vertical-align: middle;\n",
       "    }\n",
       "\n",
       "    .dataframe tbody tr th {\n",
       "        vertical-align: top;\n",
       "    }\n",
       "\n",
       "    .dataframe thead th {\n",
       "        text-align: right;\n",
       "    }\n",
       "</style>\n",
       "<table border=\"1\" class=\"dataframe\">\n",
       "  <thead>\n",
       "    <tr style=\"text-align: right;\">\n",
       "      <th></th>\n",
       "      <th>Unnamed: 0</th>\n",
       "      <th>price</th>\n",
       "      <th>points</th>\n",
       "      <th>variety</th>\n",
       "      <th>winery</th>\n",
       "      <th>province</th>\n",
       "      <th>country</th>\n",
       "      <th>lat</th>\n",
       "      <th>lng</th>\n",
       "    </tr>\n",
       "  </thead>\n",
       "  <tbody>\n",
       "    <tr>\n",
       "      <th>0</th>\n",
       "      <td>0</td>\n",
       "      <td>85</td>\n",
       "      <td>97</td>\n",
       "      <td>Cabernet Sauvignon</td>\n",
       "      <td>Abeja</td>\n",
       "      <td>Washington</td>\n",
       "      <td>US</td>\n",
       "      <td>NaN</td>\n",
       "      <td>NaN</td>\n",
       "    </tr>\n",
       "    <tr>\n",
       "      <th>1</th>\n",
       "      <td>1</td>\n",
       "      <td>130</td>\n",
       "      <td>97</td>\n",
       "      <td>Cabernet Sauvignon</td>\n",
       "      <td>Alpha Omega</td>\n",
       "      <td>California</td>\n",
       "      <td>US</td>\n",
       "      <td>NaN</td>\n",
       "      <td>NaN</td>\n",
       "    </tr>\n",
       "    <tr>\n",
       "      <th>2</th>\n",
       "      <td>2</td>\n",
       "      <td>125</td>\n",
       "      <td>97</td>\n",
       "      <td>Sangiovese</td>\n",
       "      <td>Altesino</td>\n",
       "      <td>Tuscany</td>\n",
       "      <td>Italy</td>\n",
       "      <td>NaN</td>\n",
       "      <td>NaN</td>\n",
       "    </tr>\n",
       "    <tr>\n",
       "      <th>3</th>\n",
       "      <td>3</td>\n",
       "      <td>115</td>\n",
       "      <td>97</td>\n",
       "      <td>Red Blend</td>\n",
       "      <td>Antinori</td>\n",
       "      <td>Tuscany</td>\n",
       "      <td>Italy</td>\n",
       "      <td>NaN</td>\n",
       "      <td>NaN</td>\n",
       "    </tr>\n",
       "    <tr>\n",
       "      <th>4</th>\n",
       "      <td>4</td>\n",
       "      <td>90</td>\n",
       "      <td>97</td>\n",
       "      <td>Pinot Noir</td>\n",
       "      <td>Arista</td>\n",
       "      <td>California</td>\n",
       "      <td>US</td>\n",
       "      <td>NaN</td>\n",
       "      <td>NaN</td>\n",
       "    </tr>\n",
       "  </tbody>\n",
       "</table>\n",
       "</div>"
      ],
      "text/plain": [
       "   Unnamed: 0  price  points             variety       winery    province  \\\n",
       "0           0     85      97  Cabernet Sauvignon        Abeja  Washington   \n",
       "1           1    130      97  Cabernet Sauvignon  Alpha Omega  California   \n",
       "2           2    125      97          Sangiovese     Altesino     Tuscany   \n",
       "3           3    115      97           Red Blend     Antinori     Tuscany   \n",
       "4           4     90      97          Pinot Noir       Arista  California   \n",
       "\n",
       "  country  lat  lng  \n",
       "0      US  NaN  NaN  \n",
       "1      US  NaN  NaN  \n",
       "2   Italy  NaN  NaN  \n",
       "3   Italy  NaN  NaN  \n",
       "4      US  NaN  NaN  "
      ]
     },
     "execution_count": 76,
     "metadata": {},
     "output_type": "execute_result"
    }
   ],
   "source": [
    "cleaned_df.head()"
   ]
  },
  {
   "cell_type": "code",
   "execution_count": 78,
   "metadata": {},
   "outputs": [],
   "source": [
    "final_df = cleaned_df.drop('Unnamed: 0',axis=1)"
   ]
  },
  {
   "cell_type": "code",
   "execution_count": 79,
   "metadata": {},
   "outputs": [
    {
     "data": {
      "text/html": [
       "<div>\n",
       "<style scoped>\n",
       "    .dataframe tbody tr th:only-of-type {\n",
       "        vertical-align: middle;\n",
       "    }\n",
       "\n",
       "    .dataframe tbody tr th {\n",
       "        vertical-align: top;\n",
       "    }\n",
       "\n",
       "    .dataframe thead th {\n",
       "        text-align: right;\n",
       "    }\n",
       "</style>\n",
       "<table border=\"1\" class=\"dataframe\">\n",
       "  <thead>\n",
       "    <tr style=\"text-align: right;\">\n",
       "      <th></th>\n",
       "      <th>price</th>\n",
       "      <th>points</th>\n",
       "      <th>variety</th>\n",
       "      <th>winery</th>\n",
       "      <th>province</th>\n",
       "      <th>country</th>\n",
       "      <th>lat</th>\n",
       "      <th>lng</th>\n",
       "    </tr>\n",
       "  </thead>\n",
       "  <tbody>\n",
       "    <tr>\n",
       "      <th>0</th>\n",
       "      <td>85</td>\n",
       "      <td>97</td>\n",
       "      <td>Cabernet Sauvignon</td>\n",
       "      <td>Abeja</td>\n",
       "      <td>Washington</td>\n",
       "      <td>US</td>\n",
       "      <td>NaN</td>\n",
       "      <td>NaN</td>\n",
       "    </tr>\n",
       "    <tr>\n",
       "      <th>1</th>\n",
       "      <td>130</td>\n",
       "      <td>97</td>\n",
       "      <td>Cabernet Sauvignon</td>\n",
       "      <td>Alpha Omega</td>\n",
       "      <td>California</td>\n",
       "      <td>US</td>\n",
       "      <td>NaN</td>\n",
       "      <td>NaN</td>\n",
       "    </tr>\n",
       "    <tr>\n",
       "      <th>2</th>\n",
       "      <td>125</td>\n",
       "      <td>97</td>\n",
       "      <td>Sangiovese</td>\n",
       "      <td>Altesino</td>\n",
       "      <td>Tuscany</td>\n",
       "      <td>Italy</td>\n",
       "      <td>NaN</td>\n",
       "      <td>NaN</td>\n",
       "    </tr>\n",
       "    <tr>\n",
       "      <th>3</th>\n",
       "      <td>115</td>\n",
       "      <td>97</td>\n",
       "      <td>Red Blend</td>\n",
       "      <td>Antinori</td>\n",
       "      <td>Tuscany</td>\n",
       "      <td>Italy</td>\n",
       "      <td>NaN</td>\n",
       "      <td>NaN</td>\n",
       "    </tr>\n",
       "    <tr>\n",
       "      <th>4</th>\n",
       "      <td>90</td>\n",
       "      <td>97</td>\n",
       "      <td>Pinot Noir</td>\n",
       "      <td>Arista</td>\n",
       "      <td>California</td>\n",
       "      <td>US</td>\n",
       "      <td>NaN</td>\n",
       "      <td>NaN</td>\n",
       "    </tr>\n",
       "  </tbody>\n",
       "</table>\n",
       "</div>"
      ],
      "text/plain": [
       "   price  points             variety       winery    province country  lat  \\\n",
       "0     85      97  Cabernet Sauvignon        Abeja  Washington      US  NaN   \n",
       "1    130      97  Cabernet Sauvignon  Alpha Omega  California      US  NaN   \n",
       "2    125      97          Sangiovese     Altesino     Tuscany   Italy  NaN   \n",
       "3    115      97           Red Blend     Antinori     Tuscany   Italy  NaN   \n",
       "4     90      97          Pinot Noir       Arista  California      US  NaN   \n",
       "\n",
       "   lng  \n",
       "0  NaN  \n",
       "1  NaN  \n",
       "2  NaN  \n",
       "3  NaN  \n",
       "4  NaN  "
      ]
     },
     "execution_count": 79,
     "metadata": {},
     "output_type": "execute_result"
    }
   ],
   "source": [
    "final_df.head()"
   ]
  },
  {
   "cell_type": "code",
   "execution_count": 108,
   "metadata": {},
   "outputs": [
    {
     "name": "stdout",
     "output_type": "stream",
     "text": [
      "Abeja\n",
      "46.0873489602166\n",
      "Alpha Omega\n",
      "38.4707094777284\n",
      "Altesino\n",
      "43.1027255427756\n",
      "Antinori\n",
      "43.612757325108\n",
      "Arista\n",
      "38.5242147453319\n",
      "Arkenstone\n",
      "38.5649955305371\n",
      "Au Sommet\n",
      "38.4435234096784\n",
      "Avignonesi\n",
      "43.1741913128998\n",
      "Betz Family\n",
      "47.7192433310932\n",
      "Black Coyote\n",
      "38.3197790333064\n",
      "Blackbird Vineyards\n",
      "38.2994600250118\n",
      "Bodega Catena Zapata\n",
      "-33.1666861432268\n",
      "Bodegas Gutiérrez de la Vega\n",
      "39.6823915177437\n",
      "Bodegas Roda\n",
      "42.5858590001005\n",
      "Bollinger\n",
      "49.0781846194874\n",
      "BOND\n",
      "38.5109750961266\n",
      "Buty\n",
      "46.0878024522818\n",
      "Campbells\n",
      "-36.0608846049158\n",
      "Capanna\n",
      "43.9834924014435\n",
      "Cardinale\n",
      "38.9218981494947\n",
      "Casanova di Neri\n",
      "43.0579881027584\n",
      "Castello di Ama\n",
      "43.4422722191941\n",
      "Caymus\n",
      "38.470398171495\n",
      "Cayuse\n",
      "45.9622953093802\n",
      "ChÃƒÂ¢teau Cos d'Estournel\n",
      "45.2314940192981\n",
      "ChÃƒÂ¢teau Figeac\n",
      "44.9135321559491\n",
      "ChÃƒÂ¢teau Haut-Brion\n",
      "44.811660251275\n",
      "ChÃƒÂ¢teau La Mission Haut-Brion\n",
      "44.8169460592202\n",
      "ChÃƒÂ¢teau LÃƒÂ©oville Las Cases\n",
      "45.1646973064646\n",
      "ChÃƒÂ¢teau Lafite Rothschild\n",
      "45.2258293231605\n",
      "ChÃƒÂ¢teau Latour\n",
      "42.7677812332157\n",
      "ChÃƒÂ¢teau Margaux\n",
      "45.0460346208881\n",
      "ChÃƒÂ¢teau Suduiraut\n",
      "44.5569363002945\n",
      "ChÃƒÂ¢teau Troplong Mondot\n",
      "44.890129456393\n",
      "Chambers Rosewood Vineyards\n",
      "-36.0439542880252\n",
      "Charles Smith\n",
      "47.6927087985906\n",
      "Cobb\n",
      "38.397825878529\n",
      "Continuum\n",
      "38.4837195099194\n",
      "Diamond Creek\n",
      "38.5656461383759\n",
      "Domaine Bruno Clair\n",
      "47.2726857149868\n",
      "Domaine de Chevalier\n",
      "44.7205124304776\n",
      "Domaine Jamet\n",
      "45.5165415179238\n",
      "Domaine Leflaive\n",
      "46.3824382451663\n",
      "Domaine Zind-Humbrecht\n",
      "48.0843156429793\n",
      "Dr. Pauly Bergweiler\n",
      "49.9153786968996\n",
      "Dutton-Goldfield\n",
      "38.4379617736091\n",
      "Emilio Moro\n",
      "41.6435829952424\n",
      "Failla\n",
      "38.5490240111137\n",
      "Fattoria Petrolo\n",
      "43.4714768151736\n",
      "Flowers\n",
      "38.5649517927774\n",
      "Gaja\n",
      "44.7261291862153\n",
      "Gandona\n",
      "38.4836569415661\n",
      "Geh. Rat Dr. von Bassermann-Jordan\n",
      "49.4086564911098\n",
      "Goldeneye\n",
      "39.0583025556884\n",
      "Goldschmidt\n",
      "38.6739968629096\n",
      "Harlan Estate\n",
      "38.4212115259123\n",
      "Henriot\n",
      "52.9045924117401\n",
      "Hestan\n",
      "38.4036213690994\n",
      "Iron Horse\n",
      "38.4569231222138\n",
      "Janzen\n",
      "38.4666186328531\n",
      "Jarvis\n",
      "38.3555672008683\n",
      "JCB\n",
      "38.4053710371805\n",
      "Joseph Drouhin\n",
      "47.0260954941425\n",
      "Joseph Phelps\n",
      "38.5033125644059\n",
      "Joseph Swan Vineyards\n",
      "38.4838803582245\n",
      "K Vintners\n",
      "46.0860117407432\n",
      "Ken Wright\n",
      "45.2950900390153\n",
      "Kendall-Jackson\n",
      "38.5073438823521\n",
      "Kracher\n",
      "47.7453855885246\n",
      "Krutz\n",
      "38.4721239552564\n",
      "Lancaster\n",
      "38.6262512432729\n",
      "Le Macchiole\n",
      "43.2083088431978\n",
      "Leonetti Cellar\n",
      "46.0568155996933\n",
      "Livio Felluga\n",
      "45.973063915622\n",
      "Louis Jadot\n",
      "47.0381345156291\n",
      "Louis Roederer\n",
      "49.260071303758\n",
      "Luce della Vite\n",
      "43.0392980025601\n",
      "Lynmar\n",
      "38.4427746287732\n",
      "Marchesi Antinori\n",
      "43.6156270969017\n",
      "Marchesi de' Frescobaldi\n",
      "43.6717161419753\n",
      "Masseto\n",
      "43.1602982791948\n",
      "Melville\n",
      "34.7426009271817\n",
      "Merry Edwards\n",
      "38.4354847479394\n",
      "Napa Angel\n",
      "38.3692899707841\n",
      "Niebaum-Coppola\n",
      "38.4503252840415\n",
      "Niepoort\n",
      "41.1490387759659\n",
      "Ornellaia\n",
      "43.2142370065057\n",
      "Ovid\n",
      "38.4615231294867\n",
      "Paul Hobbs\n",
      "38.4405841385062\n",
      "Penfolds\n",
      "-34.4420777224266\n",
      "Pol Roger\n",
      "49.0406709064883\n",
      "Quilceda Creek\n",
      "47.9492768880474\n",
      "Quinta do Vale MeÃƒÂ£o\n",
      "41.1544082557347\n",
      "QupÃƒÂ©\n",
      "38.513201063405\n",
      "Ramey\n",
      "38.6041127727128\n",
      "Redmon\n",
      "38.5005912897911\n",
      "Ridge\n",
      "37.351177144931\n",
      "Robert Weil\n",
      "50.0416009054317\n",
      "Rochioli\n",
      "38.5359047687138\n",
      "Salon\n",
      "48.9465976664294\n",
      "San Vicente\n",
      "42.5641708144886\n",
      "Schloss Johannisberger\n",
      "50.000523296405\n",
      "Schramsberg\n",
      "38.5501859897182\n",
      "Sea Smoke\n",
      "34.681596276019\n",
      "Semper\n",
      "38.5824620999258\n",
      "Sequana\n",
      "38.4077774546942\n",
      "Shafer\n",
      "38.4216931251306\n",
      "Signorello\n",
      "38.37127037175\n",
      "Spottswoode\n",
      "38.5005817321312\n",
      "Stag's Leap Wine Cellars\n",
      "38.4147080675745\n",
      "Stonestreet\n",
      "38.663218990047\n",
      "Talley\n",
      "35.1794569406342\n",
      "Taylor Fladgate\n",
      "41.134468929983\n",
      "Tenuta dell'Ornellaia\n",
      "43.0463526144012\n",
      "Tenuta San Guido\n",
      "43.2324150485208\n",
      "Teso La Monja\n",
      "41.4556449615068\n",
      "The Maiden\n",
      "43.2324072316919\n",
      "Torbreck\n",
      "-34.4763178915834\n",
      "Trefethen\n",
      "38.3567111356799\n",
      "Tua Rita\n",
      "43.0642245268753\n",
      "Valdicava\n",
      "43.0769899424337\n",
      "Veuve Clicquot Ponsardin\n",
      "48.2416458252331\n",
      "Bodega Viñedos De Paganos\n",
      "42.5546776466113\n",
      "Vietti\n",
      "44.6245072618675\n",
      "Vieux ChÃƒÂ¢teau Certan\n",
      "44.9270654048675\n",
      "Vine Cliff\n",
      "38.4479042125156\n",
      "Von Othegraven\n",
      "49.6710892995352\n",
      "Von Strasser\n",
      "38.5878638536726\n",
      "Vieux Chateau Certan\n",
      "44.9269970400747\n",
      "Williams Selyem\n",
      "38.5211829637262\n",
      "Yao Ming\n",
      "38.2884451068962\n"
     ]
    }
   ],
   "source": [
    "for index,row in df1.iterrows(): \n",
    "    winery_name = row['winery']\n",
    "    \n",
    "    print(winery_name)\n",
    "    \n",
    "    print(df1[df1['winery']==winery_name]['lat'][index])\n",
    "\n",
    "    final_df.loc[final_df['winery']==winery_name,'lat'] = df1[df1['winery']==winery_name]['lat'][index]\n",
    "    final_df.loc[final_df['winery']==winery_name,'lng'] = df1[df1['winery']==winery_name]['lng '][index]\n",
    "    \n",
    "    \n",
    "    \n",
    "    "
   ]
  },
  {
   "cell_type": "code",
   "execution_count": 110,
   "metadata": {},
   "outputs": [
    {
     "data": {
      "text/html": [
       "<div>\n",
       "<style scoped>\n",
       "    .dataframe tbody tr th:only-of-type {\n",
       "        vertical-align: middle;\n",
       "    }\n",
       "\n",
       "    .dataframe tbody tr th {\n",
       "        vertical-align: top;\n",
       "    }\n",
       "\n",
       "    .dataframe thead th {\n",
       "        text-align: right;\n",
       "    }\n",
       "</style>\n",
       "<table border=\"1\" class=\"dataframe\">\n",
       "  <thead>\n",
       "    <tr style=\"text-align: right;\">\n",
       "      <th></th>\n",
       "      <th>price</th>\n",
       "      <th>points</th>\n",
       "      <th>variety</th>\n",
       "      <th>winery</th>\n",
       "      <th>province</th>\n",
       "      <th>country</th>\n",
       "      <th>lat</th>\n",
       "      <th>lng</th>\n",
       "    </tr>\n",
       "  </thead>\n",
       "  <tbody>\n",
       "    <tr>\n",
       "      <th>0</th>\n",
       "      <td>85</td>\n",
       "      <td>97</td>\n",
       "      <td>Cabernet Sauvignon</td>\n",
       "      <td>Abeja</td>\n",
       "      <td>Washington</td>\n",
       "      <td>US</td>\n",
       "      <td>46.087349</td>\n",
       "      <td>-118.225523</td>\n",
       "    </tr>\n",
       "    <tr>\n",
       "      <th>1</th>\n",
       "      <td>130</td>\n",
       "      <td>97</td>\n",
       "      <td>Cabernet Sauvignon</td>\n",
       "      <td>Alpha Omega</td>\n",
       "      <td>California</td>\n",
       "      <td>US</td>\n",
       "      <td>38.470709</td>\n",
       "      <td>-122.428425</td>\n",
       "    </tr>\n",
       "    <tr>\n",
       "      <th>2</th>\n",
       "      <td>125</td>\n",
       "      <td>97</td>\n",
       "      <td>Sangiovese</td>\n",
       "      <td>Altesino</td>\n",
       "      <td>Tuscany</td>\n",
       "      <td>Italy</td>\n",
       "      <td>43.102726</td>\n",
       "      <td>11.491383</td>\n",
       "    </tr>\n",
       "    <tr>\n",
       "      <th>3</th>\n",
       "      <td>115</td>\n",
       "      <td>97</td>\n",
       "      <td>Red Blend</td>\n",
       "      <td>Antinori</td>\n",
       "      <td>Tuscany</td>\n",
       "      <td>Italy</td>\n",
       "      <td>43.612757</td>\n",
       "      <td>11.191307</td>\n",
       "    </tr>\n",
       "    <tr>\n",
       "      <th>4</th>\n",
       "      <td>90</td>\n",
       "      <td>97</td>\n",
       "      <td>Pinot Noir</td>\n",
       "      <td>Arista</td>\n",
       "      <td>California</td>\n",
       "      <td>US</td>\n",
       "      <td>38.524215</td>\n",
       "      <td>-122.867989</td>\n",
       "    </tr>\n",
       "    <tr>\n",
       "      <th>...</th>\n",
       "      <td>...</td>\n",
       "      <td>...</td>\n",
       "      <td>...</td>\n",
       "      <td>...</td>\n",
       "      <td>...</td>\n",
       "      <td>...</td>\n",
       "      <td>...</td>\n",
       "      <td>...</td>\n",
       "    </tr>\n",
       "    <tr>\n",
       "      <th>182</th>\n",
       "      <td>82</td>\n",
       "      <td>97</td>\n",
       "      <td>Pinot Noir</td>\n",
       "      <td>Williams Selyem</td>\n",
       "      <td>California</td>\n",
       "      <td>US</td>\n",
       "      <td>38.521183</td>\n",
       "      <td>-122.866156</td>\n",
       "    </tr>\n",
       "    <tr>\n",
       "      <th>183</th>\n",
       "      <td>85</td>\n",
       "      <td>97</td>\n",
       "      <td>Pinot Noir</td>\n",
       "      <td>Williams Selyem</td>\n",
       "      <td>California</td>\n",
       "      <td>US</td>\n",
       "      <td>38.521183</td>\n",
       "      <td>-122.866156</td>\n",
       "    </tr>\n",
       "    <tr>\n",
       "      <th>184</th>\n",
       "      <td>95</td>\n",
       "      <td>97</td>\n",
       "      <td>Pinot Noir</td>\n",
       "      <td>Williams Selyem</td>\n",
       "      <td>California</td>\n",
       "      <td>US</td>\n",
       "      <td>38.521183</td>\n",
       "      <td>-122.866156</td>\n",
       "    </tr>\n",
       "    <tr>\n",
       "      <th>185</th>\n",
       "      <td>125</td>\n",
       "      <td>97</td>\n",
       "      <td>Pinot Noir</td>\n",
       "      <td>Williams Selyem</td>\n",
       "      <td>California</td>\n",
       "      <td>US</td>\n",
       "      <td>38.521183</td>\n",
       "      <td>-122.866156</td>\n",
       "    </tr>\n",
       "    <tr>\n",
       "      <th>186</th>\n",
       "      <td>625</td>\n",
       "      <td>97</td>\n",
       "      <td>Cabernet Sauvignon</td>\n",
       "      <td>Yao Ming</td>\n",
       "      <td>California</td>\n",
       "      <td>US</td>\n",
       "      <td>38.288445</td>\n",
       "      <td>-122.289419</td>\n",
       "    </tr>\n",
       "  </tbody>\n",
       "</table>\n",
       "<p>187 rows × 8 columns</p>\n",
       "</div>"
      ],
      "text/plain": [
       "     price  points             variety           winery    province country  \\\n",
       "0       85      97  Cabernet Sauvignon            Abeja  Washington      US   \n",
       "1      130      97  Cabernet Sauvignon      Alpha Omega  California      US   \n",
       "2      125      97          Sangiovese         Altesino     Tuscany   Italy   \n",
       "3      115      97           Red Blend         Antinori     Tuscany   Italy   \n",
       "4       90      97          Pinot Noir           Arista  California      US   \n",
       "..     ...     ...                 ...              ...         ...     ...   \n",
       "182     82      97          Pinot Noir  Williams Selyem  California      US   \n",
       "183     85      97          Pinot Noir  Williams Selyem  California      US   \n",
       "184     95      97          Pinot Noir  Williams Selyem  California      US   \n",
       "185    125      97          Pinot Noir  Williams Selyem  California      US   \n",
       "186    625      97  Cabernet Sauvignon         Yao Ming  California      US   \n",
       "\n",
       "           lat         lng  \n",
       "0    46.087349 -118.225523  \n",
       "1    38.470709 -122.428425  \n",
       "2    43.102726   11.491383  \n",
       "3    43.612757   11.191307  \n",
       "4    38.524215 -122.867989  \n",
       "..         ...         ...  \n",
       "182  38.521183 -122.866156  \n",
       "183  38.521183 -122.866156  \n",
       "184  38.521183 -122.866156  \n",
       "185  38.521183 -122.866156  \n",
       "186  38.288445 -122.289419  \n",
       "\n",
       "[187 rows x 8 columns]"
      ]
     },
     "execution_count": 110,
     "metadata": {},
     "output_type": "execute_result"
    }
   ],
   "source": [
    "final_df"
   ]
  },
  {
   "cell_type": "code",
   "execution_count": 112,
   "metadata": {},
   "outputs": [],
   "source": [
    "final_df.to_csv('final_cleaned_wine.csv')"
   ]
  },
  {
   "cell_type": "code",
   "execution_count": 90,
   "metadata": {},
   "outputs": [
    {
     "data": {
      "text/plain": [
       "Index(['price', 'points', 'variety', 'winery', 'province', 'country', 'lat',\n",
       "       'lng'],\n",
       "      dtype='object')"
      ]
     },
     "execution_count": 90,
     "metadata": {},
     "output_type": "execute_result"
    }
   ],
   "source": [
    "final_df.columns"
   ]
  },
  {
   "cell_type": "code",
   "execution_count": 91,
   "metadata": {},
   "outputs": [
    {
     "data": {
      "text/plain": [
       "Index(['Unnamed: 0', 'price', 'points', 'variety', 'winery', 'province',\n",
       "       'country', 'lat', 'lng'],\n",
       "      dtype='object')"
      ]
     },
     "execution_count": 91,
     "metadata": {},
     "output_type": "execute_result"
    }
   ],
   "source": [
    "cleaned_df.columns"
   ]
  },
  {
   "cell_type": "code",
   "execution_count": null,
   "metadata": {},
   "outputs": [],
   "source": [
    "#exporting the final dataframe as a CSV"
   ]
  }
 ],
 "metadata": {
  "kernelspec": {
   "display_name": "Python 3",
   "language": "python",
   "name": "python3"
  },
  "language_info": {
   "codemirror_mode": {
    "name": "ipython",
    "version": 3
   },
   "file_extension": ".py",
   "mimetype": "text/x-python",
   "name": "python",
   "nbconvert_exporter": "python",
   "pygments_lexer": "ipython3",
   "version": "3.8.3"
  }
 },
 "nbformat": 4,
 "nbformat_minor": 4
}
